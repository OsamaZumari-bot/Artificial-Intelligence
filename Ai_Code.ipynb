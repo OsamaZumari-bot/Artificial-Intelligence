{
  "nbformat": 4,
  "nbformat_minor": 0,
  "metadata": {
    "colab": {
      "provenance": [],
      "collapsed_sections": [
        "S3wKoY-trjFM",
        "E2V_4zkfrtAp",
        "HODvnPjDpY6A",
        "LXiYorEctCGd",
        "7aH_6oV_s0hH",
        "TKsW9wbrk9zf",
        "0rvPg9sg6Udq",
        "2rTxTZSzv3Kn",
        "VlLCZe09v-MQ",
        "7W_eyR_GwD98",
        "RGpzN3ohwnmG",
        "kN2GD_xWwvwQ",
        "I9Nqm7XkyWZm",
        "fr_SNckFy1ho",
        "KCDfa0iFw7l0",
        "-PqjGtMPxHny",
        "jVZhRXahQwOY",
        "1ItQXkRlfkva",
        "gmjFY24uxgvS",
        "TJcLtPb4KJE8",
        "iz_2S7mV31sj",
        "BZxmAVyRFzOd",
        "Y4VPxCuF39TV",
        "s9ahQ3CoHk-e",
        "cmdkiJUCLrrF"
      ]
    },
    "kernelspec": {
      "name": "python3",
      "display_name": "Python 3"
    },
    "language_info": {
      "name": "python"
    }
  },
  "cells": [
    {
      "cell_type": "markdown",
      "source": [
        "# ***Artificial Intelligence Final Project***"
      ],
      "metadata": {
        "id": "oXs1vbcTylH9"
      }
    },
    {
      "cell_type": "markdown",
      "source": [
        "# 1. Reading The Data"
      ],
      "metadata": {
        "id": "S3wKoY-trjFM"
      }
    },
    {
      "cell_type": "code",
      "source": [
        "import pandas as pd\n",
        "df = pd.read_csv('/content/EmployeeMine.csv')\n",
        "df.head()"
      ],
      "metadata": {
        "id": "7AJGSRQwq7oQ",
        "colab": {
          "base_uri": "https://localhost:8080/",
          "height": 206
        },
        "outputId": "85ff875c-b140-429c-86a3-ccd7416e7600"
      },
      "execution_count": 1,
      "outputs": [
        {
          "output_type": "execute_result",
          "data": {
            "text/plain": [
              "   Education  JoiningYear       City  PaymentTier   Age  Gender EverBenched  \\\n",
              "0  Bachelors       2018.0  Bangalore          3.0  41.0  Female          No   \n",
              "1    Masters       2018.0  New Delhi          3.0  40.0  Female          No   \n",
              "2    Masters       2018.0  Bangalore          3.0  40.0  Female          No   \n",
              "3    Masters       2018.0       Pune          3.0  40.0  Female          No   \n",
              "4  Bachelors       2018.0  Bangalore          3.0  40.0  Female          No   \n",
              "\n",
              "   ExperienceInCurrentDomain  LeaveOrNot  \n",
              "0                        2.0           1  \n",
              "1                        2.0           1  \n",
              "2                        3.0           1  \n",
              "3                        2.0           1  \n",
              "4                        4.0           1  "
            ],
            "text/html": [
              "\n",
              "  <div id=\"df-5855c60c-bbe4-4b2f-9f52-f7982cad84f7\">\n",
              "    <div class=\"colab-df-container\">\n",
              "      <div>\n",
              "<style scoped>\n",
              "    .dataframe tbody tr th:only-of-type {\n",
              "        vertical-align: middle;\n",
              "    }\n",
              "\n",
              "    .dataframe tbody tr th {\n",
              "        vertical-align: top;\n",
              "    }\n",
              "\n",
              "    .dataframe thead th {\n",
              "        text-align: right;\n",
              "    }\n",
              "</style>\n",
              "<table border=\"1\" class=\"dataframe\">\n",
              "  <thead>\n",
              "    <tr style=\"text-align: right;\">\n",
              "      <th></th>\n",
              "      <th>Education</th>\n",
              "      <th>JoiningYear</th>\n",
              "      <th>City</th>\n",
              "      <th>PaymentTier</th>\n",
              "      <th>Age</th>\n",
              "      <th>Gender</th>\n",
              "      <th>EverBenched</th>\n",
              "      <th>ExperienceInCurrentDomain</th>\n",
              "      <th>LeaveOrNot</th>\n",
              "    </tr>\n",
              "  </thead>\n",
              "  <tbody>\n",
              "    <tr>\n",
              "      <th>0</th>\n",
              "      <td>Bachelors</td>\n",
              "      <td>2018.0</td>\n",
              "      <td>Bangalore</td>\n",
              "      <td>3.0</td>\n",
              "      <td>41.0</td>\n",
              "      <td>Female</td>\n",
              "      <td>No</td>\n",
              "      <td>2.0</td>\n",
              "      <td>1</td>\n",
              "    </tr>\n",
              "    <tr>\n",
              "      <th>1</th>\n",
              "      <td>Masters</td>\n",
              "      <td>2018.0</td>\n",
              "      <td>New Delhi</td>\n",
              "      <td>3.0</td>\n",
              "      <td>40.0</td>\n",
              "      <td>Female</td>\n",
              "      <td>No</td>\n",
              "      <td>2.0</td>\n",
              "      <td>1</td>\n",
              "    </tr>\n",
              "    <tr>\n",
              "      <th>2</th>\n",
              "      <td>Masters</td>\n",
              "      <td>2018.0</td>\n",
              "      <td>Bangalore</td>\n",
              "      <td>3.0</td>\n",
              "      <td>40.0</td>\n",
              "      <td>Female</td>\n",
              "      <td>No</td>\n",
              "      <td>3.0</td>\n",
              "      <td>1</td>\n",
              "    </tr>\n",
              "    <tr>\n",
              "      <th>3</th>\n",
              "      <td>Masters</td>\n",
              "      <td>2018.0</td>\n",
              "      <td>Pune</td>\n",
              "      <td>3.0</td>\n",
              "      <td>40.0</td>\n",
              "      <td>Female</td>\n",
              "      <td>No</td>\n",
              "      <td>2.0</td>\n",
              "      <td>1</td>\n",
              "    </tr>\n",
              "    <tr>\n",
              "      <th>4</th>\n",
              "      <td>Bachelors</td>\n",
              "      <td>2018.0</td>\n",
              "      <td>Bangalore</td>\n",
              "      <td>3.0</td>\n",
              "      <td>40.0</td>\n",
              "      <td>Female</td>\n",
              "      <td>No</td>\n",
              "      <td>4.0</td>\n",
              "      <td>1</td>\n",
              "    </tr>\n",
              "  </tbody>\n",
              "</table>\n",
              "</div>\n",
              "      <button class=\"colab-df-convert\" onclick=\"convertToInteractive('df-5855c60c-bbe4-4b2f-9f52-f7982cad84f7')\"\n",
              "              title=\"Convert this dataframe to an interactive table.\"\n",
              "              style=\"display:none;\">\n",
              "        \n",
              "  <svg xmlns=\"http://www.w3.org/2000/svg\" height=\"24px\"viewBox=\"0 0 24 24\"\n",
              "       width=\"24px\">\n",
              "    <path d=\"M0 0h24v24H0V0z\" fill=\"none\"/>\n",
              "    <path d=\"M18.56 5.44l.94 2.06.94-2.06 2.06-.94-2.06-.94-.94-2.06-.94 2.06-2.06.94zm-11 1L8.5 8.5l.94-2.06 2.06-.94-2.06-.94L8.5 2.5l-.94 2.06-2.06.94zm10 10l.94 2.06.94-2.06 2.06-.94-2.06-.94-.94-2.06-.94 2.06-2.06.94z\"/><path d=\"M17.41 7.96l-1.37-1.37c-.4-.4-.92-.59-1.43-.59-.52 0-1.04.2-1.43.59L10.3 9.45l-7.72 7.72c-.78.78-.78 2.05 0 2.83L4 21.41c.39.39.9.59 1.41.59.51 0 1.02-.2 1.41-.59l7.78-7.78 2.81-2.81c.8-.78.8-2.07 0-2.86zM5.41 20L4 18.59l7.72-7.72 1.47 1.35L5.41 20z\"/>\n",
              "  </svg>\n",
              "      </button>\n",
              "      \n",
              "  <style>\n",
              "    .colab-df-container {\n",
              "      display:flex;\n",
              "      flex-wrap:wrap;\n",
              "      gap: 12px;\n",
              "    }\n",
              "\n",
              "    .colab-df-convert {\n",
              "      background-color: #E8F0FE;\n",
              "      border: none;\n",
              "      border-radius: 50%;\n",
              "      cursor: pointer;\n",
              "      display: none;\n",
              "      fill: #1967D2;\n",
              "      height: 32px;\n",
              "      padding: 0 0 0 0;\n",
              "      width: 32px;\n",
              "    }\n",
              "\n",
              "    .colab-df-convert:hover {\n",
              "      background-color: #E2EBFA;\n",
              "      box-shadow: 0px 1px 2px rgba(60, 64, 67, 0.3), 0px 1px 3px 1px rgba(60, 64, 67, 0.15);\n",
              "      fill: #174EA6;\n",
              "    }\n",
              "\n",
              "    [theme=dark] .colab-df-convert {\n",
              "      background-color: #3B4455;\n",
              "      fill: #D2E3FC;\n",
              "    }\n",
              "\n",
              "    [theme=dark] .colab-df-convert:hover {\n",
              "      background-color: #434B5C;\n",
              "      box-shadow: 0px 1px 3px 1px rgba(0, 0, 0, 0.15);\n",
              "      filter: drop-shadow(0px 1px 2px rgba(0, 0, 0, 0.3));\n",
              "      fill: #FFFFFF;\n",
              "    }\n",
              "  </style>\n",
              "\n",
              "      <script>\n",
              "        const buttonEl =\n",
              "          document.querySelector('#df-5855c60c-bbe4-4b2f-9f52-f7982cad84f7 button.colab-df-convert');\n",
              "        buttonEl.style.display =\n",
              "          google.colab.kernel.accessAllowed ? 'block' : 'none';\n",
              "\n",
              "        async function convertToInteractive(key) {\n",
              "          const element = document.querySelector('#df-5855c60c-bbe4-4b2f-9f52-f7982cad84f7');\n",
              "          const dataTable =\n",
              "            await google.colab.kernel.invokeFunction('convertToInteractive',\n",
              "                                                     [key], {});\n",
              "          if (!dataTable) return;\n",
              "\n",
              "          const docLinkHtml = 'Like what you see? Visit the ' +\n",
              "            '<a target=\"_blank\" href=https://colab.research.google.com/notebooks/data_table.ipynb>data table notebook</a>'\n",
              "            + ' to learn more about interactive tables.';\n",
              "          element.innerHTML = '';\n",
              "          dataTable['output_type'] = 'display_data';\n",
              "          await google.colab.output.renderOutput(dataTable, element);\n",
              "          const docLink = document.createElement('div');\n",
              "          docLink.innerHTML = docLinkHtml;\n",
              "          element.appendChild(docLink);\n",
              "        }\n",
              "      </script>\n",
              "    </div>\n",
              "  </div>\n",
              "  "
            ]
          },
          "metadata": {},
          "execution_count": 1
        }
      ]
    },
    {
      "cell_type": "markdown",
      "source": [
        "# 2. Explore The Data"
      ],
      "metadata": {
        "id": "E2V_4zkfrtAp"
      }
    },
    {
      "cell_type": "markdown",
      "source": [
        "### Initial Explore"
      ],
      "metadata": {
        "id": "HODvnPjDpY6A"
      }
    },
    {
      "cell_type": "code",
      "source": [
        "df.columns"
      ],
      "metadata": {
        "colab": {
          "base_uri": "https://localhost:8080/"
        },
        "id": "dzrZx9LtbdWk",
        "outputId": "6159825c-b3f8-4334-d115-0051e19e84f6"
      },
      "execution_count": 2,
      "outputs": [
        {
          "output_type": "execute_result",
          "data": {
            "text/plain": [
              "Index(['Education', 'JoiningYear', 'City', 'PaymentTier', 'Age', 'Gender',\n",
              "       'EverBenched', 'ExperienceInCurrentDomain', 'LeaveOrNot'],\n",
              "      dtype='object')"
            ]
          },
          "metadata": {},
          "execution_count": 2
        }
      ]
    },
    {
      "cell_type": "code",
      "source": [
        "df.describe()"
      ],
      "metadata": {
        "colab": {
          "base_uri": "https://localhost:8080/",
          "height": 0
        },
        "id": "ijJJL8Gwr4W_",
        "outputId": "ff91c414-1c26-4ab8-969d-8642f914bf73"
      },
      "execution_count": 3,
      "outputs": [
        {
          "output_type": "execute_result",
          "data": {
            "text/plain": [
              "       JoiningYear  PaymentTier          Age  ExperienceInCurrentDomain  \\\n",
              "count  4646.000000  4641.000000  4644.000000                4638.000000   \n",
              "mean   2015.063065     2.697694    29.391258                   2.907072   \n",
              "std       1.863624     0.561875     4.825137                   1.558641   \n",
              "min    2012.000000     1.000000    22.000000                   0.000000   \n",
              "25%    2013.000000     3.000000    26.000000                   2.000000   \n",
              "50%    2015.000000     3.000000    28.000000                   3.000000   \n",
              "75%    2017.000000     3.000000    32.000000                   4.000000   \n",
              "max    2018.000000     3.000000    41.000000                   7.000000   \n",
              "\n",
              "        LeaveOrNot  \n",
              "count  4653.000000  \n",
              "mean      0.343864  \n",
              "std       0.475047  \n",
              "min       0.000000  \n",
              "25%       0.000000  \n",
              "50%       0.000000  \n",
              "75%       1.000000  \n",
              "max       1.000000  "
            ],
            "text/html": [
              "\n",
              "  <div id=\"df-a4b6eb07-2bef-4bb8-9dec-86c1645365b6\">\n",
              "    <div class=\"colab-df-container\">\n",
              "      <div>\n",
              "<style scoped>\n",
              "    .dataframe tbody tr th:only-of-type {\n",
              "        vertical-align: middle;\n",
              "    }\n",
              "\n",
              "    .dataframe tbody tr th {\n",
              "        vertical-align: top;\n",
              "    }\n",
              "\n",
              "    .dataframe thead th {\n",
              "        text-align: right;\n",
              "    }\n",
              "</style>\n",
              "<table border=\"1\" class=\"dataframe\">\n",
              "  <thead>\n",
              "    <tr style=\"text-align: right;\">\n",
              "      <th></th>\n",
              "      <th>JoiningYear</th>\n",
              "      <th>PaymentTier</th>\n",
              "      <th>Age</th>\n",
              "      <th>ExperienceInCurrentDomain</th>\n",
              "      <th>LeaveOrNot</th>\n",
              "    </tr>\n",
              "  </thead>\n",
              "  <tbody>\n",
              "    <tr>\n",
              "      <th>count</th>\n",
              "      <td>4646.000000</td>\n",
              "      <td>4641.000000</td>\n",
              "      <td>4644.000000</td>\n",
              "      <td>4638.000000</td>\n",
              "      <td>4653.000000</td>\n",
              "    </tr>\n",
              "    <tr>\n",
              "      <th>mean</th>\n",
              "      <td>2015.063065</td>\n",
              "      <td>2.697694</td>\n",
              "      <td>29.391258</td>\n",
              "      <td>2.907072</td>\n",
              "      <td>0.343864</td>\n",
              "    </tr>\n",
              "    <tr>\n",
              "      <th>std</th>\n",
              "      <td>1.863624</td>\n",
              "      <td>0.561875</td>\n",
              "      <td>4.825137</td>\n",
              "      <td>1.558641</td>\n",
              "      <td>0.475047</td>\n",
              "    </tr>\n",
              "    <tr>\n",
              "      <th>min</th>\n",
              "      <td>2012.000000</td>\n",
              "      <td>1.000000</td>\n",
              "      <td>22.000000</td>\n",
              "      <td>0.000000</td>\n",
              "      <td>0.000000</td>\n",
              "    </tr>\n",
              "    <tr>\n",
              "      <th>25%</th>\n",
              "      <td>2013.000000</td>\n",
              "      <td>3.000000</td>\n",
              "      <td>26.000000</td>\n",
              "      <td>2.000000</td>\n",
              "      <td>0.000000</td>\n",
              "    </tr>\n",
              "    <tr>\n",
              "      <th>50%</th>\n",
              "      <td>2015.000000</td>\n",
              "      <td>3.000000</td>\n",
              "      <td>28.000000</td>\n",
              "      <td>3.000000</td>\n",
              "      <td>0.000000</td>\n",
              "    </tr>\n",
              "    <tr>\n",
              "      <th>75%</th>\n",
              "      <td>2017.000000</td>\n",
              "      <td>3.000000</td>\n",
              "      <td>32.000000</td>\n",
              "      <td>4.000000</td>\n",
              "      <td>1.000000</td>\n",
              "    </tr>\n",
              "    <tr>\n",
              "      <th>max</th>\n",
              "      <td>2018.000000</td>\n",
              "      <td>3.000000</td>\n",
              "      <td>41.000000</td>\n",
              "      <td>7.000000</td>\n",
              "      <td>1.000000</td>\n",
              "    </tr>\n",
              "  </tbody>\n",
              "</table>\n",
              "</div>\n",
              "      <button class=\"colab-df-convert\" onclick=\"convertToInteractive('df-a4b6eb07-2bef-4bb8-9dec-86c1645365b6')\"\n",
              "              title=\"Convert this dataframe to an interactive table.\"\n",
              "              style=\"display:none;\">\n",
              "        \n",
              "  <svg xmlns=\"http://www.w3.org/2000/svg\" height=\"24px\"viewBox=\"0 0 24 24\"\n",
              "       width=\"24px\">\n",
              "    <path d=\"M0 0h24v24H0V0z\" fill=\"none\"/>\n",
              "    <path d=\"M18.56 5.44l.94 2.06.94-2.06 2.06-.94-2.06-.94-.94-2.06-.94 2.06-2.06.94zm-11 1L8.5 8.5l.94-2.06 2.06-.94-2.06-.94L8.5 2.5l-.94 2.06-2.06.94zm10 10l.94 2.06.94-2.06 2.06-.94-2.06-.94-.94-2.06-.94 2.06-2.06.94z\"/><path d=\"M17.41 7.96l-1.37-1.37c-.4-.4-.92-.59-1.43-.59-.52 0-1.04.2-1.43.59L10.3 9.45l-7.72 7.72c-.78.78-.78 2.05 0 2.83L4 21.41c.39.39.9.59 1.41.59.51 0 1.02-.2 1.41-.59l7.78-7.78 2.81-2.81c.8-.78.8-2.07 0-2.86zM5.41 20L4 18.59l7.72-7.72 1.47 1.35L5.41 20z\"/>\n",
              "  </svg>\n",
              "      </button>\n",
              "      \n",
              "  <style>\n",
              "    .colab-df-container {\n",
              "      display:flex;\n",
              "      flex-wrap:wrap;\n",
              "      gap: 12px;\n",
              "    }\n",
              "\n",
              "    .colab-df-convert {\n",
              "      background-color: #E8F0FE;\n",
              "      border: none;\n",
              "      border-radius: 50%;\n",
              "      cursor: pointer;\n",
              "      display: none;\n",
              "      fill: #1967D2;\n",
              "      height: 32px;\n",
              "      padding: 0 0 0 0;\n",
              "      width: 32px;\n",
              "    }\n",
              "\n",
              "    .colab-df-convert:hover {\n",
              "      background-color: #E2EBFA;\n",
              "      box-shadow: 0px 1px 2px rgba(60, 64, 67, 0.3), 0px 1px 3px 1px rgba(60, 64, 67, 0.15);\n",
              "      fill: #174EA6;\n",
              "    }\n",
              "\n",
              "    [theme=dark] .colab-df-convert {\n",
              "      background-color: #3B4455;\n",
              "      fill: #D2E3FC;\n",
              "    }\n",
              "\n",
              "    [theme=dark] .colab-df-convert:hover {\n",
              "      background-color: #434B5C;\n",
              "      box-shadow: 0px 1px 3px 1px rgba(0, 0, 0, 0.15);\n",
              "      filter: drop-shadow(0px 1px 2px rgba(0, 0, 0, 0.3));\n",
              "      fill: #FFFFFF;\n",
              "    }\n",
              "  </style>\n",
              "\n",
              "      <script>\n",
              "        const buttonEl =\n",
              "          document.querySelector('#df-a4b6eb07-2bef-4bb8-9dec-86c1645365b6 button.colab-df-convert');\n",
              "        buttonEl.style.display =\n",
              "          google.colab.kernel.accessAllowed ? 'block' : 'none';\n",
              "\n",
              "        async function convertToInteractive(key) {\n",
              "          const element = document.querySelector('#df-a4b6eb07-2bef-4bb8-9dec-86c1645365b6');\n",
              "          const dataTable =\n",
              "            await google.colab.kernel.invokeFunction('convertToInteractive',\n",
              "                                                     [key], {});\n",
              "          if (!dataTable) return;\n",
              "\n",
              "          const docLinkHtml = 'Like what you see? Visit the ' +\n",
              "            '<a target=\"_blank\" href=https://colab.research.google.com/notebooks/data_table.ipynb>data table notebook</a>'\n",
              "            + ' to learn more about interactive tables.';\n",
              "          element.innerHTML = '';\n",
              "          dataTable['output_type'] = 'display_data';\n",
              "          await google.colab.output.renderOutput(dataTable, element);\n",
              "          const docLink = document.createElement('div');\n",
              "          docLink.innerHTML = docLinkHtml;\n",
              "          element.appendChild(docLink);\n",
              "        }\n",
              "      </script>\n",
              "    </div>\n",
              "  </div>\n",
              "  "
            ]
          },
          "metadata": {},
          "execution_count": 3
        }
      ]
    },
    {
      "cell_type": "code",
      "source": [
        "df.info()"
      ],
      "metadata": {
        "colab": {
          "base_uri": "https://localhost:8080/"
        },
        "id": "e93upn8_r6Cn",
        "outputId": "76526715-b7db-47eb-a0ad-cacbb99a64ac"
      },
      "execution_count": 4,
      "outputs": [
        {
          "output_type": "stream",
          "name": "stdout",
          "text": [
            "<class 'pandas.core.frame.DataFrame'>\n",
            "RangeIndex: 4653 entries, 0 to 4652\n",
            "Data columns (total 9 columns):\n",
            " #   Column                     Non-Null Count  Dtype  \n",
            "---  ------                     --------------  -----  \n",
            " 0   Education                  4640 non-null   object \n",
            " 1   JoiningYear                4646 non-null   float64\n",
            " 2   City                       4631 non-null   object \n",
            " 3   PaymentTier                4641 non-null   float64\n",
            " 4   Age                        4644 non-null   float64\n",
            " 5   Gender                     4640 non-null   object \n",
            " 6   EverBenched                4644 non-null   object \n",
            " 7   ExperienceInCurrentDomain  4638 non-null   float64\n",
            " 8   LeaveOrNot                 4653 non-null   int64  \n",
            "dtypes: float64(4), int64(1), object(4)\n",
            "memory usage: 327.3+ KB\n"
          ]
        }
      ]
    },
    {
      "cell_type": "code",
      "source": [
        "df.isnull().sum()"
      ],
      "metadata": {
        "colab": {
          "base_uri": "https://localhost:8080/"
        },
        "id": "3z1SMTcMr_VT",
        "outputId": "7c262610-5c35-480f-9507-452ff2620e8a"
      },
      "execution_count": 5,
      "outputs": [
        {
          "output_type": "execute_result",
          "data": {
            "text/plain": [
              "Education                    13\n",
              "JoiningYear                   7\n",
              "City                         22\n",
              "PaymentTier                  12\n",
              "Age                           9\n",
              "Gender                       13\n",
              "EverBenched                   9\n",
              "ExperienceInCurrentDomain    15\n",
              "LeaveOrNot                    0\n",
              "dtype: int64"
            ]
          },
          "metadata": {},
          "execution_count": 5
        }
      ]
    },
    {
      "cell_type": "code",
      "source": [
        "df.duplicated().sum()"
      ],
      "metadata": {
        "colab": {
          "base_uri": "https://localhost:8080/"
        },
        "id": "d_Rc6Mo7pGBK",
        "outputId": "54cf6e01-6123-4017-8562-dfb13adb62e2"
      },
      "execution_count": 6,
      "outputs": [
        {
          "output_type": "execute_result",
          "data": {
            "text/plain": [
              "1851"
            ]
          },
          "metadata": {},
          "execution_count": 6
        }
      ]
    },
    {
      "cell_type": "markdown",
      "source": [
        "### Final Explore"
      ],
      "metadata": {
        "id": "LXiYorEctCGd"
      }
    },
    {
      "cell_type": "code",
      "source": [
        "df = df.drop_duplicates(keep=False)"
      ],
      "metadata": {
        "id": "2c3cZFkqqMzw"
      },
      "execution_count": 7,
      "outputs": []
    },
    {
      "cell_type": "code",
      "source": [
        "df.describe()"
      ],
      "metadata": {
        "colab": {
          "base_uri": "https://localhost:8080/",
          "height": 0
        },
        "id": "uEBSK_6TtKky",
        "outputId": "4f44982c-bf92-412f-d2d1-dbec0ba88796"
      },
      "execution_count": 8,
      "outputs": [
        {
          "output_type": "execute_result",
          "data": {
            "text/plain": [
              "       JoiningYear  PaymentTier          Age  ExperienceInCurrentDomain  \\\n",
              "count  2101.000000  2096.000000  2099.000000                2093.000000   \n",
              "mean   2015.087577     2.601145    31.764173                   2.557573   \n",
              "std       1.900612     0.658543     5.106411                   1.640535   \n",
              "min    2012.000000     1.000000    22.000000                   0.000000   \n",
              "25%    2013.000000     2.000000    28.000000                   1.000000   \n",
              "50%    2015.000000     3.000000    31.000000                   2.000000   \n",
              "75%    2017.000000     3.000000    36.000000                   4.000000   \n",
              "max    2018.000000     3.000000    41.000000                   7.000000   \n",
              "\n",
              "        LeaveOrNot  \n",
              "count  2108.000000  \n",
              "mean      0.407495  \n",
              "std       0.491485  \n",
              "min       0.000000  \n",
              "25%       0.000000  \n",
              "50%       0.000000  \n",
              "75%       1.000000  \n",
              "max       1.000000  "
            ],
            "text/html": [
              "\n",
              "  <div id=\"df-bdb50139-0f69-49b3-bdd3-8c5231ffe11f\">\n",
              "    <div class=\"colab-df-container\">\n",
              "      <div>\n",
              "<style scoped>\n",
              "    .dataframe tbody tr th:only-of-type {\n",
              "        vertical-align: middle;\n",
              "    }\n",
              "\n",
              "    .dataframe tbody tr th {\n",
              "        vertical-align: top;\n",
              "    }\n",
              "\n",
              "    .dataframe thead th {\n",
              "        text-align: right;\n",
              "    }\n",
              "</style>\n",
              "<table border=\"1\" class=\"dataframe\">\n",
              "  <thead>\n",
              "    <tr style=\"text-align: right;\">\n",
              "      <th></th>\n",
              "      <th>JoiningYear</th>\n",
              "      <th>PaymentTier</th>\n",
              "      <th>Age</th>\n",
              "      <th>ExperienceInCurrentDomain</th>\n",
              "      <th>LeaveOrNot</th>\n",
              "    </tr>\n",
              "  </thead>\n",
              "  <tbody>\n",
              "    <tr>\n",
              "      <th>count</th>\n",
              "      <td>2101.000000</td>\n",
              "      <td>2096.000000</td>\n",
              "      <td>2099.000000</td>\n",
              "      <td>2093.000000</td>\n",
              "      <td>2108.000000</td>\n",
              "    </tr>\n",
              "    <tr>\n",
              "      <th>mean</th>\n",
              "      <td>2015.087577</td>\n",
              "      <td>2.601145</td>\n",
              "      <td>31.764173</td>\n",
              "      <td>2.557573</td>\n",
              "      <td>0.407495</td>\n",
              "    </tr>\n",
              "    <tr>\n",
              "      <th>std</th>\n",
              "      <td>1.900612</td>\n",
              "      <td>0.658543</td>\n",
              "      <td>5.106411</td>\n",
              "      <td>1.640535</td>\n",
              "      <td>0.491485</td>\n",
              "    </tr>\n",
              "    <tr>\n",
              "      <th>min</th>\n",
              "      <td>2012.000000</td>\n",
              "      <td>1.000000</td>\n",
              "      <td>22.000000</td>\n",
              "      <td>0.000000</td>\n",
              "      <td>0.000000</td>\n",
              "    </tr>\n",
              "    <tr>\n",
              "      <th>25%</th>\n",
              "      <td>2013.000000</td>\n",
              "      <td>2.000000</td>\n",
              "      <td>28.000000</td>\n",
              "      <td>1.000000</td>\n",
              "      <td>0.000000</td>\n",
              "    </tr>\n",
              "    <tr>\n",
              "      <th>50%</th>\n",
              "      <td>2015.000000</td>\n",
              "      <td>3.000000</td>\n",
              "      <td>31.000000</td>\n",
              "      <td>2.000000</td>\n",
              "      <td>0.000000</td>\n",
              "    </tr>\n",
              "    <tr>\n",
              "      <th>75%</th>\n",
              "      <td>2017.000000</td>\n",
              "      <td>3.000000</td>\n",
              "      <td>36.000000</td>\n",
              "      <td>4.000000</td>\n",
              "      <td>1.000000</td>\n",
              "    </tr>\n",
              "    <tr>\n",
              "      <th>max</th>\n",
              "      <td>2018.000000</td>\n",
              "      <td>3.000000</td>\n",
              "      <td>41.000000</td>\n",
              "      <td>7.000000</td>\n",
              "      <td>1.000000</td>\n",
              "    </tr>\n",
              "  </tbody>\n",
              "</table>\n",
              "</div>\n",
              "      <button class=\"colab-df-convert\" onclick=\"convertToInteractive('df-bdb50139-0f69-49b3-bdd3-8c5231ffe11f')\"\n",
              "              title=\"Convert this dataframe to an interactive table.\"\n",
              "              style=\"display:none;\">\n",
              "        \n",
              "  <svg xmlns=\"http://www.w3.org/2000/svg\" height=\"24px\"viewBox=\"0 0 24 24\"\n",
              "       width=\"24px\">\n",
              "    <path d=\"M0 0h24v24H0V0z\" fill=\"none\"/>\n",
              "    <path d=\"M18.56 5.44l.94 2.06.94-2.06 2.06-.94-2.06-.94-.94-2.06-.94 2.06-2.06.94zm-11 1L8.5 8.5l.94-2.06 2.06-.94-2.06-.94L8.5 2.5l-.94 2.06-2.06.94zm10 10l.94 2.06.94-2.06 2.06-.94-2.06-.94-.94-2.06-.94 2.06-2.06.94z\"/><path d=\"M17.41 7.96l-1.37-1.37c-.4-.4-.92-.59-1.43-.59-.52 0-1.04.2-1.43.59L10.3 9.45l-7.72 7.72c-.78.78-.78 2.05 0 2.83L4 21.41c.39.39.9.59 1.41.59.51 0 1.02-.2 1.41-.59l7.78-7.78 2.81-2.81c.8-.78.8-2.07 0-2.86zM5.41 20L4 18.59l7.72-7.72 1.47 1.35L5.41 20z\"/>\n",
              "  </svg>\n",
              "      </button>\n",
              "      \n",
              "  <style>\n",
              "    .colab-df-container {\n",
              "      display:flex;\n",
              "      flex-wrap:wrap;\n",
              "      gap: 12px;\n",
              "    }\n",
              "\n",
              "    .colab-df-convert {\n",
              "      background-color: #E8F0FE;\n",
              "      border: none;\n",
              "      border-radius: 50%;\n",
              "      cursor: pointer;\n",
              "      display: none;\n",
              "      fill: #1967D2;\n",
              "      height: 32px;\n",
              "      padding: 0 0 0 0;\n",
              "      width: 32px;\n",
              "    }\n",
              "\n",
              "    .colab-df-convert:hover {\n",
              "      background-color: #E2EBFA;\n",
              "      box-shadow: 0px 1px 2px rgba(60, 64, 67, 0.3), 0px 1px 3px 1px rgba(60, 64, 67, 0.15);\n",
              "      fill: #174EA6;\n",
              "    }\n",
              "\n",
              "    [theme=dark] .colab-df-convert {\n",
              "      background-color: #3B4455;\n",
              "      fill: #D2E3FC;\n",
              "    }\n",
              "\n",
              "    [theme=dark] .colab-df-convert:hover {\n",
              "      background-color: #434B5C;\n",
              "      box-shadow: 0px 1px 3px 1px rgba(0, 0, 0, 0.15);\n",
              "      filter: drop-shadow(0px 1px 2px rgba(0, 0, 0, 0.3));\n",
              "      fill: #FFFFFF;\n",
              "    }\n",
              "  </style>\n",
              "\n",
              "      <script>\n",
              "        const buttonEl =\n",
              "          document.querySelector('#df-bdb50139-0f69-49b3-bdd3-8c5231ffe11f button.colab-df-convert');\n",
              "        buttonEl.style.display =\n",
              "          google.colab.kernel.accessAllowed ? 'block' : 'none';\n",
              "\n",
              "        async function convertToInteractive(key) {\n",
              "          const element = document.querySelector('#df-bdb50139-0f69-49b3-bdd3-8c5231ffe11f');\n",
              "          const dataTable =\n",
              "            await google.colab.kernel.invokeFunction('convertToInteractive',\n",
              "                                                     [key], {});\n",
              "          if (!dataTable) return;\n",
              "\n",
              "          const docLinkHtml = 'Like what you see? Visit the ' +\n",
              "            '<a target=\"_blank\" href=https://colab.research.google.com/notebooks/data_table.ipynb>data table notebook</a>'\n",
              "            + ' to learn more about interactive tables.';\n",
              "          element.innerHTML = '';\n",
              "          dataTable['output_type'] = 'display_data';\n",
              "          await google.colab.output.renderOutput(dataTable, element);\n",
              "          const docLink = document.createElement('div');\n",
              "          docLink.innerHTML = docLinkHtml;\n",
              "          element.appendChild(docLink);\n",
              "        }\n",
              "      </script>\n",
              "    </div>\n",
              "  </div>\n",
              "  "
            ]
          },
          "metadata": {},
          "execution_count": 8
        }
      ]
    },
    {
      "cell_type": "code",
      "source": [
        "df.info()"
      ],
      "metadata": {
        "colab": {
          "base_uri": "https://localhost:8080/"
        },
        "id": "HOQw-rrnqOkP",
        "outputId": "c3f77ab4-a4d5-4ae5-f49e-ca9ab5f02cb7"
      },
      "execution_count": 9,
      "outputs": [
        {
          "output_type": "stream",
          "name": "stdout",
          "text": [
            "<class 'pandas.core.frame.DataFrame'>\n",
            "Int64Index: 2108 entries, 0 to 4652\n",
            "Data columns (total 9 columns):\n",
            " #   Column                     Non-Null Count  Dtype  \n",
            "---  ------                     --------------  -----  \n",
            " 0   Education                  2095 non-null   object \n",
            " 1   JoiningYear                2101 non-null   float64\n",
            " 2   City                       2086 non-null   object \n",
            " 3   PaymentTier                2096 non-null   float64\n",
            " 4   Age                        2099 non-null   float64\n",
            " 5   Gender                     2095 non-null   object \n",
            " 6   EverBenched                2099 non-null   object \n",
            " 7   ExperienceInCurrentDomain  2093 non-null   float64\n",
            " 8   LeaveOrNot                 2108 non-null   int64  \n",
            "dtypes: float64(4), int64(1), object(4)\n",
            "memory usage: 164.7+ KB\n"
          ]
        }
      ]
    },
    {
      "cell_type": "code",
      "source": [
        "df.corr()"
      ],
      "metadata": {
        "colab": {
          "base_uri": "https://localhost:8080/",
          "height": 0
        },
        "id": "__Hyym_00EHW",
        "outputId": "d76b200f-2f10-4c78-9ed5-4597d99137c1"
      },
      "execution_count": 10,
      "outputs": [
        {
          "output_type": "stream",
          "name": "stderr",
          "text": [
            "<ipython-input-10-2f6f6606aa2c>:1: FutureWarning: The default value of numeric_only in DataFrame.corr is deprecated. In a future version, it will default to False. Select only valid columns or specify the value of numeric_only to silence this warning.\n",
            "  df.corr()\n"
          ]
        },
        {
          "output_type": "execute_result",
          "data": {
            "text/plain": [
              "                           JoiningYear  PaymentTier       Age  \\\n",
              "JoiningYear                   1.000000    -0.036888  0.041116   \n",
              "PaymentTier                  -0.036888     1.000000  0.091616   \n",
              "Age                           0.041116     0.091616  1.000000   \n",
              "ExperienceInCurrentDomain    -0.035807    -0.013355  0.000057   \n",
              "LeaveOrNot                    0.131983    -0.089310 -0.120989   \n",
              "\n",
              "                           ExperienceInCurrentDomain  LeaveOrNot  \n",
              "JoiningYear                                -0.035807    0.131983  \n",
              "PaymentTier                                -0.013355   -0.089310  \n",
              "Age                                         0.000057   -0.120989  \n",
              "ExperienceInCurrentDomain                   1.000000   -0.049295  \n",
              "LeaveOrNot                                 -0.049295    1.000000  "
            ],
            "text/html": [
              "\n",
              "  <div id=\"df-2cc64467-cd5e-4a8c-8cac-160f3c9f03d1\">\n",
              "    <div class=\"colab-df-container\">\n",
              "      <div>\n",
              "<style scoped>\n",
              "    .dataframe tbody tr th:only-of-type {\n",
              "        vertical-align: middle;\n",
              "    }\n",
              "\n",
              "    .dataframe tbody tr th {\n",
              "        vertical-align: top;\n",
              "    }\n",
              "\n",
              "    .dataframe thead th {\n",
              "        text-align: right;\n",
              "    }\n",
              "</style>\n",
              "<table border=\"1\" class=\"dataframe\">\n",
              "  <thead>\n",
              "    <tr style=\"text-align: right;\">\n",
              "      <th></th>\n",
              "      <th>JoiningYear</th>\n",
              "      <th>PaymentTier</th>\n",
              "      <th>Age</th>\n",
              "      <th>ExperienceInCurrentDomain</th>\n",
              "      <th>LeaveOrNot</th>\n",
              "    </tr>\n",
              "  </thead>\n",
              "  <tbody>\n",
              "    <tr>\n",
              "      <th>JoiningYear</th>\n",
              "      <td>1.000000</td>\n",
              "      <td>-0.036888</td>\n",
              "      <td>0.041116</td>\n",
              "      <td>-0.035807</td>\n",
              "      <td>0.131983</td>\n",
              "    </tr>\n",
              "    <tr>\n",
              "      <th>PaymentTier</th>\n",
              "      <td>-0.036888</td>\n",
              "      <td>1.000000</td>\n",
              "      <td>0.091616</td>\n",
              "      <td>-0.013355</td>\n",
              "      <td>-0.089310</td>\n",
              "    </tr>\n",
              "    <tr>\n",
              "      <th>Age</th>\n",
              "      <td>0.041116</td>\n",
              "      <td>0.091616</td>\n",
              "      <td>1.000000</td>\n",
              "      <td>0.000057</td>\n",
              "      <td>-0.120989</td>\n",
              "    </tr>\n",
              "    <tr>\n",
              "      <th>ExperienceInCurrentDomain</th>\n",
              "      <td>-0.035807</td>\n",
              "      <td>-0.013355</td>\n",
              "      <td>0.000057</td>\n",
              "      <td>1.000000</td>\n",
              "      <td>-0.049295</td>\n",
              "    </tr>\n",
              "    <tr>\n",
              "      <th>LeaveOrNot</th>\n",
              "      <td>0.131983</td>\n",
              "      <td>-0.089310</td>\n",
              "      <td>-0.120989</td>\n",
              "      <td>-0.049295</td>\n",
              "      <td>1.000000</td>\n",
              "    </tr>\n",
              "  </tbody>\n",
              "</table>\n",
              "</div>\n",
              "      <button class=\"colab-df-convert\" onclick=\"convertToInteractive('df-2cc64467-cd5e-4a8c-8cac-160f3c9f03d1')\"\n",
              "              title=\"Convert this dataframe to an interactive table.\"\n",
              "              style=\"display:none;\">\n",
              "        \n",
              "  <svg xmlns=\"http://www.w3.org/2000/svg\" height=\"24px\"viewBox=\"0 0 24 24\"\n",
              "       width=\"24px\">\n",
              "    <path d=\"M0 0h24v24H0V0z\" fill=\"none\"/>\n",
              "    <path d=\"M18.56 5.44l.94 2.06.94-2.06 2.06-.94-2.06-.94-.94-2.06-.94 2.06-2.06.94zm-11 1L8.5 8.5l.94-2.06 2.06-.94-2.06-.94L8.5 2.5l-.94 2.06-2.06.94zm10 10l.94 2.06.94-2.06 2.06-.94-2.06-.94-.94-2.06-.94 2.06-2.06.94z\"/><path d=\"M17.41 7.96l-1.37-1.37c-.4-.4-.92-.59-1.43-.59-.52 0-1.04.2-1.43.59L10.3 9.45l-7.72 7.72c-.78.78-.78 2.05 0 2.83L4 21.41c.39.39.9.59 1.41.59.51 0 1.02-.2 1.41-.59l7.78-7.78 2.81-2.81c.8-.78.8-2.07 0-2.86zM5.41 20L4 18.59l7.72-7.72 1.47 1.35L5.41 20z\"/>\n",
              "  </svg>\n",
              "      </button>\n",
              "      \n",
              "  <style>\n",
              "    .colab-df-container {\n",
              "      display:flex;\n",
              "      flex-wrap:wrap;\n",
              "      gap: 12px;\n",
              "    }\n",
              "\n",
              "    .colab-df-convert {\n",
              "      background-color: #E8F0FE;\n",
              "      border: none;\n",
              "      border-radius: 50%;\n",
              "      cursor: pointer;\n",
              "      display: none;\n",
              "      fill: #1967D2;\n",
              "      height: 32px;\n",
              "      padding: 0 0 0 0;\n",
              "      width: 32px;\n",
              "    }\n",
              "\n",
              "    .colab-df-convert:hover {\n",
              "      background-color: #E2EBFA;\n",
              "      box-shadow: 0px 1px 2px rgba(60, 64, 67, 0.3), 0px 1px 3px 1px rgba(60, 64, 67, 0.15);\n",
              "      fill: #174EA6;\n",
              "    }\n",
              "\n",
              "    [theme=dark] .colab-df-convert {\n",
              "      background-color: #3B4455;\n",
              "      fill: #D2E3FC;\n",
              "    }\n",
              "\n",
              "    [theme=dark] .colab-df-convert:hover {\n",
              "      background-color: #434B5C;\n",
              "      box-shadow: 0px 1px 3px 1px rgba(0, 0, 0, 0.15);\n",
              "      filter: drop-shadow(0px 1px 2px rgba(0, 0, 0, 0.3));\n",
              "      fill: #FFFFFF;\n",
              "    }\n",
              "  </style>\n",
              "\n",
              "      <script>\n",
              "        const buttonEl =\n",
              "          document.querySelector('#df-2cc64467-cd5e-4a8c-8cac-160f3c9f03d1 button.colab-df-convert');\n",
              "        buttonEl.style.display =\n",
              "          google.colab.kernel.accessAllowed ? 'block' : 'none';\n",
              "\n",
              "        async function convertToInteractive(key) {\n",
              "          const element = document.querySelector('#df-2cc64467-cd5e-4a8c-8cac-160f3c9f03d1');\n",
              "          const dataTable =\n",
              "            await google.colab.kernel.invokeFunction('convertToInteractive',\n",
              "                                                     [key], {});\n",
              "          if (!dataTable) return;\n",
              "\n",
              "          const docLinkHtml = 'Like what you see? Visit the ' +\n",
              "            '<a target=\"_blank\" href=https://colab.research.google.com/notebooks/data_table.ipynb>data table notebook</a>'\n",
              "            + ' to learn more about interactive tables.';\n",
              "          element.innerHTML = '';\n",
              "          dataTable['output_type'] = 'display_data';\n",
              "          await google.colab.output.renderOutput(dataTable, element);\n",
              "          const docLink = document.createElement('div');\n",
              "          docLink.innerHTML = docLinkHtml;\n",
              "          element.appendChild(docLink);\n",
              "        }\n",
              "      </script>\n",
              "    </div>\n",
              "  </div>\n",
              "  "
            ]
          },
          "metadata": {},
          "execution_count": 10
        }
      ]
    },
    {
      "cell_type": "code",
      "source": [
        "df.isnull().sum()"
      ],
      "metadata": {
        "colab": {
          "base_uri": "https://localhost:8080/"
        },
        "id": "olfo0REwtTXx",
        "outputId": "c159f272-2891-4d02-bb80-d33bfeccf70c"
      },
      "execution_count": 11,
      "outputs": [
        {
          "output_type": "execute_result",
          "data": {
            "text/plain": [
              "Education                    13\n",
              "JoiningYear                   7\n",
              "City                         22\n",
              "PaymentTier                  12\n",
              "Age                           9\n",
              "Gender                       13\n",
              "EverBenched                   9\n",
              "ExperienceInCurrentDomain    15\n",
              "LeaveOrNot                    0\n",
              "dtype: int64"
            ]
          },
          "metadata": {},
          "execution_count": 11
        }
      ]
    },
    {
      "cell_type": "code",
      "source": [
        "df.duplicated().sum()"
      ],
      "metadata": {
        "colab": {
          "base_uri": "https://localhost:8080/"
        },
        "id": "9-R4xuietbZS",
        "outputId": "bfc3a097-8060-4f0b-ae8e-aef82a5e49e5"
      },
      "execution_count": 12,
      "outputs": [
        {
          "output_type": "execute_result",
          "data": {
            "text/plain": [
              "0"
            ]
          },
          "metadata": {},
          "execution_count": 12
        }
      ]
    },
    {
      "cell_type": "markdown",
      "source": [
        "# 3. PreProcessing"
      ],
      "metadata": {
        "id": "7aH_6oV_s0hH"
      }
    },
    {
      "cell_type": "markdown",
      "source": [
        "### Libraries"
      ],
      "metadata": {
        "id": "TKsW9wbrk9zf"
      }
    },
    {
      "cell_type": "code",
      "source": [
        "import seaborn as sns\n",
        "import matplotlib.pyplot as plt\n",
        "import statistics as st\n",
        "import numpy as np\n",
        "from sklearn import preprocessing\n",
        "LE = preprocessing.LabelEncoder()"
      ],
      "metadata": {
        "id": "UEIvxk5qk8uQ"
      },
      "execution_count": 13,
      "outputs": []
    },
    {
      "cell_type": "markdown",
      "source": [
        "### Analysis"
      ],
      "metadata": {
        "id": "0rvPg9sg6Udq"
      }
    },
    {
      "cell_type": "code",
      "source": [
        "corrdf = df.corr()\n",
        "\n",
        "sns.heatmap(corrdf, annot=True, cmap='coolwarm')\n",
        "plt.title('Correlation Heatmap')\n",
        "plt.show()"
      ],
      "metadata": {
        "colab": {
          "base_uri": "https://localhost:8080/",
          "height": 691
        },
        "id": "EIWwCtDRYfmO",
        "outputId": "2f31fa73-8d4c-45bf-d7e1-1d3c0d6e79bc"
      },
      "execution_count": 23,
      "outputs": [
        {
          "output_type": "stream",
          "name": "stderr",
          "text": [
            "<ipython-input-23-06e117085571>:1: FutureWarning: The default value of numeric_only in DataFrame.corr is deprecated. In a future version, it will default to False. Select only valid columns or specify the value of numeric_only to silence this warning.\n",
            "  corrdf = df.corr()\n"
          ]
        },
        {
          "output_type": "display_data",
          "data": {
            "text/plain": [
              "<Figure size 640x480 with 2 Axes>"
            ],
            "image/png": "[encoded data removed]"
          },
          "metadata": {}
        }
      ]
    },
    {
      "cell_type": "code",
      "source": [
        "sns.countplot(x = 'City' , hue = 'Education' , data = df)\n",
        "plt.show()\n",
        "# New Delhi takes the high educational employees"
      ],
      "metadata": {
        "colab": {
          "base_uri": "https://localhost:8080/",
          "height": 449
        },
        "id": "OGvilvOv6V9m",
        "outputId": "d5d04e57-78f7-4a2f-f9db-2ba3eea4e866"
      },
      "execution_count": 14,
      "outputs": [
        {
          "output_type": "display_data",
          "data": {
            "text/plain": [
              "<Figure size 640x480 with 1 Axes>"
            ],
            "image/png": "[encoded data removed]"
          },
          "metadata": {}
        }
      ]
    },
    {
      "cell_type": "code",
      "source": [
        "sns.countplot(x = 'Education' , hue = 'PaymentTier' , data = df)\n",
        "plt.show()\n",
        "# Educational Level is not the determinder for the payment tier"
      ],
      "metadata": {
        "colab": {
          "base_uri": "https://localhost:8080/",
          "height": 449
        },
        "id": "6aYNtEfF6cEq",
        "outputId": "7543c8b6-61d5-4831-9b35-bb3d99e6f384"
      },
      "execution_count": 15,
      "outputs": [
        {
          "output_type": "display_data",
          "data": {
            "text/plain": [
              "<Figure size 640x480 with 1 Axes>"
            ],
            "image/png": "[encoded data removed]"
          },
          "metadata": {}
        }
      ]
    },
    {
      "cell_type": "code",
      "source": [
        "sns.countplot(x = 'City' , hue = 'PaymentTier' , data = df)\n",
        "plt.show()\n",
        "# The best place that gives more salary is Pune"
      ],
      "metadata": {
        "colab": {
          "base_uri": "https://localhost:8080/",
          "height": 449
        },
        "id": "KM1Ke42c97Gn",
        "outputId": "9fe460d2-f3f4-4253-c16e-af141bf820e4"
      },
      "execution_count": 16,
      "outputs": [
        {
          "output_type": "display_data",
          "data": {
            "text/plain": [
              "<Figure size 640x480 with 1 Axes>"
            ],
            "image/png": "[encoded data removed]"
          },
          "metadata": {}
        }
      ]
    },
    {
      "cell_type": "code",
      "source": [
        "sns.countplot(x = 'Education' , hue = 'Gender' , data = df)\n",
        "plt.show()\n",
        "# Nearly we have equal employees between genders for each educational level"
      ],
      "metadata": {
        "colab": {
          "base_uri": "https://localhost:8080/",
          "height": 449
        },
        "id": "UIWoEgUn6dRh",
        "outputId": "9c96fbd2-9db3-4cca-90ae-bf45ff1769aa"
      },
      "execution_count": 17,
      "outputs": [
        {
          "output_type": "display_data",
          "data": {
            "text/plain": [
              "<Figure size 640x480 with 1 Axes>"
            ],
            "image/png": "[encoded data removed]"
          },
          "metadata": {}
        }
      ]
    },
    {
      "cell_type": "code",
      "source": [
        "sns.countplot(hue = 'EverBenched' , x = 'Education' , data = df)\n",
        "plt.show()\n",
        "# Most of them did not bench from projects"
      ],
      "metadata": {
        "colab": {
          "base_uri": "https://localhost:8080/",
          "height": 449
        },
        "id": "tw3cpUeV6gMa",
        "outputId": "cfcfa67f-ab72-467f-d92d-dd5c7d274f83"
      },
      "execution_count": 18,
      "outputs": [
        {
          "output_type": "display_data",
          "data": {
            "text/plain": [
              "<Figure size 640x480 with 1 Axes>"
            ],
            "image/png": "[encoded data removed]"
          },
          "metadata": {}
        }
      ]
    },
    {
      "cell_type": "code",
      "source": [
        "sns.countplot(x = 'City' , hue = 'PaymentTier' , data = df)\n",
        "plt.show()\n",
        "# Bangalore is the biggest office and most of them are tier 3 payment and nearly half of Pune employees are tier 2 payment."
      ],
      "metadata": {
        "colab": {
          "base_uri": "https://localhost:8080/",
          "height": 449
        },
        "id": "r60irosW6tAb",
        "outputId": "1ef75e10-ea06-4ffd-a6b5-4e04679587a7"
      },
      "execution_count": 19,
      "outputs": [
        {
          "output_type": "display_data",
          "data": {
            "text/plain": [
              "<Figure size 640x480 with 1 Axes>"
            ],
            "image/png": "[encoded data removed]"
          },
          "metadata": {}
        }
      ]
    },
    {
      "cell_type": "code",
      "source": [
        "sns.countplot(hue = 'PaymentTier' , x = 'Gender' , data = df)\n",
        "plt.show()\n",
        "# Women percentage are more payed than men."
      ],
      "metadata": {
        "colab": {
          "base_uri": "https://localhost:8080/",
          "height": 449
        },
        "id": "wF2njcaw7Zzi",
        "outputId": "3eb755cf-56fd-404d-96f1-6a3ee45a9d00"
      },
      "execution_count": 20,
      "outputs": [
        {
          "output_type": "display_data",
          "data": {
            "text/plain": [
              "<Figure size 640x480 with 1 Axes>"
            ],
            "image/png": "[encoded data removed]"
          },
          "metadata": {}
        }
      ]
    },
    {
      "cell_type": "code",
      "source": [
        "forpie = df['EverBenched'].value_counts()\n",
        "label = forpie.index\n",
        "counter = forpie.values\n",
        "plt.pie(counter, labels=label, autopct='%1.1f%%')\n",
        "plt.title(\"EverBenched Piechart\")\n",
        "plt.legend(bbox_to_anchor=(1 , 1))\n",
        "plt.show()\n",
        "# 85.5% of employees were not benched from projects."
      ],
      "metadata": {
        "colab": {
          "base_uri": "https://localhost:8080/",
          "height": 428
        },
        "id": "49EWatm_Qcls",
        "outputId": "bf4c40b7-a4cc-45b9-ae9e-185d632f7ecb"
      },
      "execution_count": 21,
      "outputs": [
        {
          "output_type": "display_data",
          "data": {
            "text/plain": [
              "<Figure size 640x480 with 1 Axes>"
            ],
            "image/png": "[encoded data removed]"
          },
          "metadata": {}
        }
      ]
    },
    {
      "cell_type": "code",
      "source": [
        "sns.histplot(x = 'Age' , hue = 'PaymentTier', palette=\"bright\", data = df)\n",
        "plt.show()\n",
        "#"
      ],
      "metadata": {
        "colab": {
          "base_uri": "https://localhost:8080/",
          "height": 449
        },
        "id": "EiPEj4pDUQbX",
        "outputId": "409d56da-63d6-411d-93fa-572af2ba83dc"
      },
      "execution_count": 22,
      "outputs": [
        {
          "output_type": "display_data",
          "data": {
            "text/plain": [
              "<Figure size 640x480 with 1 Axes>"
            ],
            "image/png": "[encoded data removed]"
          },
          "metadata": {}
        }
      ]
    },
    {
      "cell_type": "code",
      "source": [
        "sns.countplot(hue = 'Gender' , x = 'LeaveOrNot' , data = df)\n",
        "plt.show()\n",
        "# Women percantage are more likely to leave the company than men."
      ],
      "metadata": {
        "colab": {
          "base_uri": "https://localhost:8080/",
          "height": 449
        },
        "id": "xfKVTw2M7pOb",
        "outputId": "7ffa0b8f-4ed3-4299-c386-6ea4af92e7f5"
      },
      "execution_count": 24,
      "outputs": [
        {
          "output_type": "display_data",
          "data": {
            "text/plain": [
              "<Figure size 640x480 with 1 Axes>"
            ],
            "image/png": "[encoded data removed]"
          },
          "metadata": {}
        }
      ]
    },
    {
      "cell_type": "code",
      "source": [
        "'''\n",
        "We can understand that:\n",
        "Bangalore is the biggest office, then Pune, then New Delhi.\n",
        "New Delhi has the highest number of Masters and PHDs employees.\n",
        "In all offices, the correlation between the educational level and the payment tier is not huge.\n",
        "The best place that gives more salary is Pune.\n",
        "Nearly we have equal genders percentage in each educational level.\n",
        "Women percentage are more paid than men.\n",
        "Women percantage are more likely to leave the company than men.\n",
        "'''"
      ],
      "metadata": {
        "colab": {
          "base_uri": "https://localhost:8080/",
          "height": 72
        },
        "id": "gykaLTlH9VKf",
        "outputId": "584af19e-3f69-4471-a242-11ee6316bf05"
      },
      "execution_count": 25,
      "outputs": [
        {
          "output_type": "execute_result",
          "data": {
            "text/plain": [
              "'\\nWe can understand that:\\nBangalore is the biggest office, then Pune, then New Delhi.\\nNew Delhi has the highest number of Masters and PHDs employees.\\nIn all offices, the correlation between the educational level and the payment tier is not huge.\\nThe best place that gives more salary is Pune.\\nNearly we have equal genders percentage in each educational level.\\nWomen percentage are more paid than men.\\nWomen percantage are more likely to leave the company than men.\\n'"
            ],
            "application/vnd.google.colaboratory.intrinsic+json": {
              "type": "string"
            }
          },
          "metadata": {},
          "execution_count": 25
        }
      ]
    },
    {
      "cell_type": "markdown",
      "source": [
        "### Education"
      ],
      "metadata": {
        "id": "2rTxTZSzv3Kn"
      }
    },
    {
      "cell_type": "code",
      "source": [
        "sns.countplot(x = 'Education' , data = df)\n",
        "plt.show()"
      ],
      "metadata": {
        "colab": {
          "base_uri": "https://localhost:8080/",
          "height": 0
        },
        "id": "6JsenDFGs7d3",
        "outputId": "e1acdf81-a5d5-49e1-c760-cf39cfb4ed79"
      },
      "execution_count": 26,
      "outputs": [
        {
          "output_type": "display_data",
          "data": {
            "text/plain": [
              "<Figure size 640x480 with 1 Axes>"
            ],
            "image/png": "[encoded data removed]"
          },
          "metadata": {}
        }
      ]
    },
    {
      "cell_type": "code",
      "source": [
        "df['Education'] = df['Education'].fillna(\"Unknown\")"
      ],
      "metadata": {
        "id": "lumAi78QUBVN"
      },
      "execution_count": 27,
      "outputs": []
    },
    {
      "cell_type": "code",
      "source": [
        "df['Education'].unique()"
      ],
      "metadata": {
        "colab": {
          "base_uri": "https://localhost:8080/"
        },
        "id": "bB2UuLDzvbUI",
        "outputId": "dfc63ec7-62f1-4025-e3d1-250ec70c1906"
      },
      "execution_count": 28,
      "outputs": [
        {
          "output_type": "execute_result",
          "data": {
            "text/plain": [
              "array(['Bachelors', 'Masters', 'PHD', 'Unknown'], dtype=object)"
            ]
          },
          "metadata": {},
          "execution_count": 28
        }
      ]
    },
    {
      "cell_type": "code",
      "source": [
        "df['Education'].isnull().sum()"
      ],
      "metadata": {
        "colab": {
          "base_uri": "https://localhost:8080/"
        },
        "id": "UFMV9QgEUTIi",
        "outputId": "3c3b849b-3d76-40f5-d799-aad39c4afdda"
      },
      "execution_count": 29,
      "outputs": [
        {
          "output_type": "execute_result",
          "data": {
            "text/plain": [
              "0"
            ]
          },
          "metadata": {},
          "execution_count": 29
        }
      ]
    },
    {
      "cell_type": "markdown",
      "source": [
        "### JoiningYear"
      ],
      "metadata": {
        "id": "VlLCZe09v-MQ"
      }
    },
    {
      "cell_type": "code",
      "source": [
        "sns.countplot(x = 'JoiningYear' , data = df)\n",
        "plt.show()"
      ],
      "metadata": {
        "colab": {
          "base_uri": "https://localhost:8080/",
          "height": 449
        },
        "id": "XzV6OguJtAqp",
        "outputId": "407e6aa7-8e62-4fb2-c7f9-23962680f185"
      },
      "execution_count": 30,
      "outputs": [
        {
          "output_type": "display_data",
          "data": {
            "text/plain": [
              "<Figure size 640x480 with 1 Axes>"
            ],
            "image/png": "[encoded data removed]"
          },
          "metadata": {}
        }
      ]
    },
    {
      "cell_type": "code",
      "source": [
        "df['JoiningYear'] = df['JoiningYear'].fillna(2017)"
      ],
      "metadata": {
        "id": "b4OrDg-jViW9"
      },
      "execution_count": 31,
      "outputs": []
    },
    {
      "cell_type": "code",
      "source": [
        "df['JoiningYear'] = df['JoiningYear'].astype(int)"
      ],
      "metadata": {
        "id": "EcewbniOU8nl"
      },
      "execution_count": 32,
      "outputs": []
    },
    {
      "cell_type": "code",
      "source": [
        "df['JoiningYear'].value_counts()"
      ],
      "metadata": {
        "colab": {
          "base_uri": "https://localhost:8080/"
        },
        "id": "W6HHJKIzvt9c",
        "outputId": "07acea4c-296b-4a82-9d6c-e1398d5df897"
      },
      "execution_count": 33,
      "outputs": [
        {
          "output_type": "execute_result",
          "data": {
            "text/plain": [
              "2017    510\n",
              "2015    337\n",
              "2013    307\n",
              "2014    284\n",
              "2016    244\n",
              "2012    241\n",
              "2018    185\n",
              "Name: JoiningYear, dtype: int64"
            ]
          },
          "metadata": {},
          "execution_count": 33
        }
      ]
    },
    {
      "cell_type": "code",
      "source": [
        "df['JoiningYear'].isnull().sum()"
      ],
      "metadata": {
        "colab": {
          "base_uri": "https://localhost:8080/"
        },
        "id": "r3hItRJGU2dR",
        "outputId": "acc19818-e9f8-45ce-b152-36a9703297a6"
      },
      "execution_count": 34,
      "outputs": [
        {
          "output_type": "execute_result",
          "data": {
            "text/plain": [
              "0"
            ]
          },
          "metadata": {},
          "execution_count": 34
        }
      ]
    },
    {
      "cell_type": "markdown",
      "source": [
        "### City"
      ],
      "metadata": {
        "id": "7W_eyR_GwD98"
      }
    },
    {
      "cell_type": "code",
      "source": [
        "sns.countplot(x = 'City' , data = df)\n",
        "plt.show()"
      ],
      "metadata": {
        "colab": {
          "base_uri": "https://localhost:8080/",
          "height": 0
        },
        "id": "q424UWRMtOMi",
        "outputId": "c69e4e50-4ec1-486a-d560-bc2a07dfb17c"
      },
      "execution_count": 35,
      "outputs": [
        {
          "output_type": "display_data",
          "data": {
            "text/plain": [
              "<Figure size 640x480 with 1 Axes>"
            ],
            "image/png": "[encoded data removed]"
          },
          "metadata": {}
        }
      ]
    },
    {
      "cell_type": "code",
      "source": [
        "df.loc[df['Education'] == \"Bachelors\", 'City'] = df.loc[df['Education'] == \"Bachelors\", 'City'].fillna('Bangalore')\n",
        "df.loc[df['Education'] == \"Masters\"  , 'City'] = df.loc[df['Education'] == \"Masters\"  , 'City'].fillna('New Delhi')\n",
        "df.loc[df['Education'] == \"PHD\"      , 'City'] = df.loc[df['Education'] == \"PHD\"      , 'City'].fillna('New Delhi')\n",
        "df.loc[df['Education'] == \"Unknown\"  , 'City'] = df.loc[df['Education'] == \"Unknown\"  , 'City'].fillna('Unknown')"
      ],
      "metadata": {
        "id": "dHvMt7eI6VGW"
      },
      "execution_count": 36,
      "outputs": []
    },
    {
      "cell_type": "code",
      "source": [
        "df['City'].unique()"
      ],
      "metadata": {
        "colab": {
          "base_uri": "https://localhost:8080/"
        },
        "id": "kEzE7HQTfR5X",
        "outputId": "924cf16e-f2fd-4944-f7a0-4ad2715f9cfd"
      },
      "execution_count": 37,
      "outputs": [
        {
          "output_type": "execute_result",
          "data": {
            "text/plain": [
              "array(['Bangalore', 'New Delhi', 'Pune', 'Unknown'], dtype=object)"
            ]
          },
          "metadata": {},
          "execution_count": 37
        }
      ]
    },
    {
      "cell_type": "code",
      "source": [
        "df['City'].isnull().sum()"
      ],
      "metadata": {
        "colab": {
          "base_uri": "https://localhost:8080/"
        },
        "id": "Zh2P5-7qwi2W",
        "outputId": "a0e567ef-b0a1-4ecc-9028-be213da87887"
      },
      "execution_count": 38,
      "outputs": [
        {
          "output_type": "execute_result",
          "data": {
            "text/plain": [
              "0"
            ]
          },
          "metadata": {},
          "execution_count": 38
        }
      ]
    },
    {
      "cell_type": "markdown",
      "source": [
        "### PaymentTier"
      ],
      "metadata": {
        "id": "RGpzN3ohwnmG"
      }
    },
    {
      "cell_type": "code",
      "source": [
        "sns.countplot(x = 'PaymentTier' , data = df)\n",
        "plt.show()"
      ],
      "metadata": {
        "colab": {
          "base_uri": "https://localhost:8080/",
          "height": 0
        },
        "id": "E-T1E3K0tV2t",
        "outputId": "bf338dd9-dea1-485f-b1ee-0d56d819eccc"
      },
      "execution_count": 39,
      "outputs": [
        {
          "output_type": "display_data",
          "data": {
            "text/plain": [
              "<Figure size 640x480 with 1 Axes>"
            ],
            "image/png": "[encoded data removed]"
          },
          "metadata": {}
        }
      ]
    },
    {
      "cell_type": "code",
      "source": [
        "df.loc[df['City'] == \"Bangalore\", 'PaymentTier'] = df.loc[df['City'] == \"Bangalore\", 'PaymentTier'].fillna(1)\n",
        "df.loc[df['City'] == \"New Delhi\", 'PaymentTier'] = df.loc[df['City'] == \"New Delhi\", 'PaymentTier'].fillna(3)\n",
        "df.loc[df['City'] == \"Pune\"     , 'PaymentTier'] = df.loc[df['City'] == \"Pune\"     , 'PaymentTier'].fillna(2)"
      ],
      "metadata": {
        "id": "kIbxndy8-1Z6"
      },
      "execution_count": 40,
      "outputs": []
    },
    {
      "cell_type": "code",
      "source": [
        "df['PaymentTier'] = df['PaymentTier'].astype(int)"
      ],
      "metadata": {
        "id": "th24R7rhVWwa"
      },
      "execution_count": 41,
      "outputs": []
    },
    {
      "cell_type": "code",
      "source": [
        "df['PaymentTier'].isnull().sum()"
      ],
      "metadata": {
        "colab": {
          "base_uri": "https://localhost:8080/"
        },
        "id": "ie27ySIvVj7F",
        "outputId": "d8a9d84a-058b-4e48-c0e9-35a85ba7b94f"
      },
      "execution_count": 42,
      "outputs": [
        {
          "output_type": "execute_result",
          "data": {
            "text/plain": [
              "0"
            ]
          },
          "metadata": {},
          "execution_count": 42
        }
      ]
    },
    {
      "cell_type": "markdown",
      "source": [
        "### Age"
      ],
      "metadata": {
        "id": "kN2GD_xWwvwQ"
      }
    },
    {
      "cell_type": "code",
      "source": [
        "df['Age'] = df['Age'].fillna(df['Age'].mean())"
      ],
      "metadata": {
        "id": "V1vJm3ND39HL"
      },
      "execution_count": 43,
      "outputs": []
    },
    {
      "cell_type": "code",
      "source": [
        "df['Age'] = df['Age'].astype(int)"
      ],
      "metadata": {
        "id": "cfD0ToCk3xUF"
      },
      "execution_count": 44,
      "outputs": []
    },
    {
      "cell_type": "code",
      "source": [
        "sns.countplot(x = 'Age' , data = df)"
      ],
      "metadata": {
        "colab": {
          "base_uri": "https://localhost:8080/",
          "height": 0
        },
        "id": "n1vdAchctvpU",
        "outputId": "fb19a6d9-a005-4f54-d694-41be34fe20bb"
      },
      "execution_count": 45,
      "outputs": [
        {
          "output_type": "execute_result",
          "data": {
            "text/plain": [
              "<Axes: xlabel='Age', ylabel='count'>"
            ]
          },
          "metadata": {},
          "execution_count": 45
        },
        {
          "output_type": "display_data",
          "data": {
            "text/plain": [
              "<Figure size 640x480 with 1 Axes>"
            ],
            "image/png": "[encoded data removed]"
          },
          "metadata": {}
        }
      ]
    },
    {
      "cell_type": "code",
      "source": [
        "for x in range(len(df)):\n",
        "  if df['Age'].iloc[x] >= 22 and df['Age'].iloc[x] <= 28:\n",
        "    df['Age'].iloc[x] = 'Young'\n",
        "  elif df['Age'].iloc[x] >= 29 and df['Age'].iloc[x] <= 35:\n",
        "    df['Age'].iloc[x] = 'Mature'\n",
        "  elif df['Age'].iloc[x] >= 36:\n",
        "    df['Age'].iloc[x] = 'Old'\n",
        "df['Age'].unique()"
      ],
      "metadata": {
        "colab": {
          "base_uri": "https://localhost:8080/"
        },
        "id": "UzXY2cDY7a_A",
        "outputId": "a2de2e57-5b30-433f-e334-023fff8e1485"
      },
      "execution_count": 46,
      "outputs": [
        {
          "output_type": "stream",
          "name": "stderr",
          "text": [
            "<ipython-input-46-40330864ac49>:7: SettingWithCopyWarning: \n",
            "A value is trying to be set on a copy of a slice from a DataFrame\n",
            "\n",
            "See the caveats in the documentation: https://pandas.pydata.org/pandas-docs/stable/user_guide/indexing.html#returning-a-view-versus-a-copy\n",
            "  df['Age'].iloc[x] = 'Old'\n"
          ]
        },
        {
          "output_type": "execute_result",
          "data": {
            "text/plain": [
              "array(['Old', 'Mature', 'Young'], dtype=object)"
            ]
          },
          "metadata": {},
          "execution_count": 46
        }
      ]
    },
    {
      "cell_type": "code",
      "source": [
        "df['Age'].unique()"
      ],
      "metadata": {
        "colab": {
          "base_uri": "https://localhost:8080/"
        },
        "id": "jrY-0B7jfhQQ",
        "outputId": "bc3290fa-e72b-4eb2-adf6-d7c3c28cad94"
      },
      "execution_count": 47,
      "outputs": [
        {
          "output_type": "execute_result",
          "data": {
            "text/plain": [
              "array(['Old', 'Mature', 'Young'], dtype=object)"
            ]
          },
          "metadata": {},
          "execution_count": 47
        }
      ]
    },
    {
      "cell_type": "code",
      "source": [
        "df['Age'].isnull().sum()"
      ],
      "metadata": {
        "colab": {
          "base_uri": "https://localhost:8080/"
        },
        "id": "c1K1cCZ_Vv7S",
        "outputId": "3a2de3bf-252b-4491-c127-d377429307c9"
      },
      "execution_count": 48,
      "outputs": [
        {
          "output_type": "execute_result",
          "data": {
            "text/plain": [
              "0"
            ]
          },
          "metadata": {},
          "execution_count": 48
        }
      ]
    },
    {
      "cell_type": "markdown",
      "source": [
        "### Gender"
      ],
      "metadata": {
        "id": "I9Nqm7XkyWZm"
      }
    },
    {
      "cell_type": "code",
      "source": [
        "sns.countplot(x = 'Gender' , data = df)\n",
        "plt.show()"
      ],
      "metadata": {
        "colab": {
          "base_uri": "https://localhost:8080/",
          "height": 0
        },
        "id": "_SSADXoeyYcA",
        "outputId": "87e8ebd1-aafc-4a9f-94a6-b5a2be6d8fbb"
      },
      "execution_count": 49,
      "outputs": [
        {
          "output_type": "display_data",
          "data": {
            "text/plain": [
              "<Figure size 640x480 with 1 Axes>"
            ],
            "image/png": "[encoded data removed]"
          },
          "metadata": {}
        }
      ]
    },
    {
      "cell_type": "code",
      "source": [
        "df['Gender'] = df['Gender'].fillna('Unknown')"
      ],
      "metadata": {
        "id": "wE6MPmUzWHGU"
      },
      "execution_count": 50,
      "outputs": []
    },
    {
      "cell_type": "code",
      "source": [
        "df['Gender'].value_counts()"
      ],
      "metadata": {
        "colab": {
          "base_uri": "https://localhost:8080/"
        },
        "id": "0MIKp26iNs9m",
        "outputId": "a1c37db1-ac9a-4ecc-f4fb-b20341ba663e"
      },
      "execution_count": 51,
      "outputs": [
        {
          "output_type": "execute_result",
          "data": {
            "text/plain": [
              "Male       1117\n",
              "Female      978\n",
              "Unknown      13\n",
              "Name: Gender, dtype: int64"
            ]
          },
          "metadata": {},
          "execution_count": 51
        }
      ]
    },
    {
      "cell_type": "code",
      "source": [
        "df['Gender'].unique()"
      ],
      "metadata": {
        "colab": {
          "base_uri": "https://localhost:8080/"
        },
        "id": "-mgqy1ucfpxY",
        "outputId": "f59aee00-ba36-4887-8dbb-c23b33cf33b0"
      },
      "execution_count": 52,
      "outputs": [
        {
          "output_type": "execute_result",
          "data": {
            "text/plain": [
              "array(['Female', 'Male', 'Unknown'], dtype=object)"
            ]
          },
          "metadata": {},
          "execution_count": 52
        }
      ]
    },
    {
      "cell_type": "code",
      "source": [
        "df['Gender'].isnull().sum()"
      ],
      "metadata": {
        "colab": {
          "base_uri": "https://localhost:8080/"
        },
        "id": "oHrXXalGWh73",
        "outputId": "cd98319b-db4d-4483-c9c2-6e75c80894bf"
      },
      "execution_count": 53,
      "outputs": [
        {
          "output_type": "execute_result",
          "data": {
            "text/plain": [
              "0"
            ]
          },
          "metadata": {},
          "execution_count": 53
        }
      ]
    },
    {
      "cell_type": "markdown",
      "source": [
        "### EverBenched"
      ],
      "metadata": {
        "id": "fr_SNckFy1ho"
      }
    },
    {
      "cell_type": "code",
      "source": [
        "sns.countplot(x = 'EverBenched' , data = df)\n",
        "plt.show()"
      ],
      "metadata": {
        "colab": {
          "base_uri": "https://localhost:8080/",
          "height": 0
        },
        "id": "4OqfZFg-y3Yp",
        "outputId": "0777149d-55c8-44d6-fcd5-63e50f7542a4"
      },
      "execution_count": 54,
      "outputs": [
        {
          "output_type": "display_data",
          "data": {
            "text/plain": [
              "<Figure size 640x480 with 1 Axes>"
            ],
            "image/png": "[encoded data removed]"
          },
          "metadata": {}
        }
      ]
    },
    {
      "cell_type": "code",
      "source": [
        "df.loc[df['Education'] == \"Bachelors\"  , 'EverBenched'] = df.loc[df['Education'] == \"Bachelors\", 'EverBenched'].fillna('Yes')\n",
        "df.loc[df['Education'] == \"Masters\"  , 'EverBenched'] = df.loc[df['Education'] == \"Masters\", 'EverBenched'].fillna('No')\n",
        "df.loc[df['Education'] == \"PHD\"  , 'EverBenched'] = df.loc[df['Education'] == \"PHD\", 'EverBenched'].fillna('No')"
      ],
      "metadata": {
        "id": "fCVtTu0J4cwD"
      },
      "execution_count": 55,
      "outputs": []
    },
    {
      "cell_type": "code",
      "source": [
        "df['EverBenched'].unique()"
      ],
      "metadata": {
        "colab": {
          "base_uri": "https://localhost:8080/"
        },
        "id": "y7QKDUbAfwAC",
        "outputId": "9f73beea-c4d9-415e-d532-8d0c7a2654cd"
      },
      "execution_count": 56,
      "outputs": [
        {
          "output_type": "execute_result",
          "data": {
            "text/plain": [
              "array(['No', 'Yes'], dtype=object)"
            ]
          },
          "metadata": {},
          "execution_count": 56
        }
      ]
    },
    {
      "cell_type": "code",
      "source": [
        "df['EverBenched'].isnull().sum()"
      ],
      "metadata": {
        "colab": {
          "base_uri": "https://localhost:8080/"
        },
        "id": "u0JDZ0_uXM2k",
        "outputId": "6b639234-9e51-4abf-f326-fb351b13c810"
      },
      "execution_count": 57,
      "outputs": [
        {
          "output_type": "execute_result",
          "data": {
            "text/plain": [
              "0"
            ]
          },
          "metadata": {},
          "execution_count": 57
        }
      ]
    },
    {
      "cell_type": "markdown",
      "source": [
        "### ExperienceInCurrentDomain"
      ],
      "metadata": {
        "id": "KCDfa0iFw7l0"
      }
    },
    {
      "cell_type": "code",
      "source": [
        "sns.countplot(x = 'ExperienceInCurrentDomain', data = df)\n",
        "plt.show()"
      ],
      "metadata": {
        "colab": {
          "base_uri": "https://localhost:8080/",
          "height": 0
        },
        "id": "fjeNDA4vuGno",
        "outputId": "17522cc2-ba20-4305-8b46-3dd3ffb96fa0"
      },
      "execution_count": 58,
      "outputs": [
        {
          "output_type": "display_data",
          "data": {
            "text/plain": [
              "<Figure size 640x480 with 1 Axes>"
            ],
            "image/png": "[encoded data removed]"
          },
          "metadata": {}
        }
      ]
    },
    {
      "cell_type": "code",
      "source": [
        "df['ExperienceInCurrentDomain'] = df['ExperienceInCurrentDomain'].fillna(df['ExperienceInCurrentDomain'].median())"
      ],
      "metadata": {
        "id": "dF3o6rU0XY4a"
      },
      "execution_count": 59,
      "outputs": []
    },
    {
      "cell_type": "code",
      "source": [
        "df['ExperienceInCurrentDomain'] = df['ExperienceInCurrentDomain'].astype(int)"
      ],
      "metadata": {
        "id": "7a6MXKQE6MEs"
      },
      "execution_count": 60,
      "outputs": []
    },
    {
      "cell_type": "code",
      "source": [
        "df['ExperienceInCurrentDomain'].isnull().sum()"
      ],
      "metadata": {
        "colab": {
          "base_uri": "https://localhost:8080/"
        },
        "id": "Y5qGImrXXl5B",
        "outputId": "5b212ae5-716b-4613-be09-de8503c6e8d0"
      },
      "execution_count": 61,
      "outputs": [
        {
          "output_type": "execute_result",
          "data": {
            "text/plain": [
              "0"
            ]
          },
          "metadata": {},
          "execution_count": 61
        }
      ]
    },
    {
      "cell_type": "markdown",
      "source": [
        "### LeaveOrNot"
      ],
      "metadata": {
        "id": "-PqjGtMPxHny"
      }
    },
    {
      "cell_type": "code",
      "source": [
        "sns.countplot(x = 'LeaveOrNot', data = df)\n",
        "plt.show()"
      ],
      "metadata": {
        "colab": {
          "base_uri": "https://localhost:8080/",
          "height": 0
        },
        "id": "hsMzEqZjuhor",
        "outputId": "6d50a6f0-d101-40eb-fd9e-0cf1ea8716ea"
      },
      "execution_count": 62,
      "outputs": [
        {
          "output_type": "display_data",
          "data": {
            "text/plain": [
              "<Figure size 640x480 with 1 Axes>"
            ],
            "image/png": "[encoded data removed]"
          },
          "metadata": {}
        }
      ]
    },
    {
      "cell_type": "code",
      "source": [
        "df['LeaveOrNot'].value_counts()"
      ],
      "metadata": {
        "colab": {
          "base_uri": "https://localhost:8080/"
        },
        "id": "P0blzygPc6NM",
        "outputId": "e97bb8f4-3872-4e97-d9a0-710358cd9636"
      },
      "execution_count": 63,
      "outputs": [
        {
          "output_type": "execute_result",
          "data": {
            "text/plain": [
              "0    1249\n",
              "1     859\n",
              "Name: LeaveOrNot, dtype: int64"
            ]
          },
          "metadata": {},
          "execution_count": 63
        }
      ]
    },
    {
      "cell_type": "markdown",
      "source": [
        "### Last Check"
      ],
      "metadata": {
        "id": "jVZhRXahQwOY"
      }
    },
    {
      "cell_type": "code",
      "source": [
        "df.isnull().sum()"
      ],
      "metadata": {
        "colab": {
          "base_uri": "https://localhost:8080/"
        },
        "id": "HH7dITOgQuUb",
        "outputId": "071e73fd-44c0-4e6a-b8bc-c3ccba8add1c"
      },
      "execution_count": 64,
      "outputs": [
        {
          "output_type": "execute_result",
          "data": {
            "text/plain": [
              "Education                    0\n",
              "JoiningYear                  0\n",
              "City                         0\n",
              "PaymentTier                  0\n",
              "Age                          0\n",
              "Gender                       0\n",
              "EverBenched                  0\n",
              "ExperienceInCurrentDomain    0\n",
              "LeaveOrNot                   0\n",
              "dtype: int64"
            ]
          },
          "metadata": {},
          "execution_count": 64
        }
      ]
    },
    {
      "cell_type": "code",
      "source": [
        "df['Education'] = LE.fit_transform(df['Education'])\n",
        "df['City'] = LE.fit_transform(df['City'])\n",
        "df['Age'] = LE.fit_transform(df['Age'])\n",
        "df['Gender'] = LE.fit_transform(df['Gender'])\n",
        "df['EverBenched'] = LE.fit_transform(df['EverBenched'])"
      ],
      "metadata": {
        "id": "yEffHbPH6j2b"
      },
      "execution_count": 65,
      "outputs": []
    },
    {
      "cell_type": "markdown",
      "source": [
        "# 3.5. Imbalance"
      ],
      "metadata": {
        "id": "1ItQXkRlfkva"
      }
    },
    {
      "cell_type": "code",
      "source": [
        "!pip install imbalanced-learn"
      ],
      "metadata": {
        "colab": {
          "base_uri": "https://localhost:8080/"
        },
        "id": "bYmU-xjefogn",
        "outputId": "9aa93cd5-69c4-4c72-b8bf-cddff9114045"
      },
      "execution_count": 66,
      "outputs": [
        {
          "output_type": "stream",
          "name": "stdout",
          "text": [
            "Looking in indexes: https://pypi.org/simple, https://us-python.pkg.dev/colab-wheels/public/simple/\n",
            "Requirement already satisfied: imbalanced-learn in /usr/local/lib/python3.10/dist-packages (0.10.1)\n",
            "Requirement already satisfied: numpy>=1.17.3 in /usr/local/lib/python3.10/dist-packages (from imbalanced-learn) (1.22.4)\n",
            "Requirement already satisfied: scipy>=1.3.2 in /usr/local/lib/python3.10/dist-packages (from imbalanced-learn) (1.10.1)\n",
            "Requirement already satisfied: scikit-learn>=1.0.2 in /usr/local/lib/python3.10/dist-packages (from imbalanced-learn) (1.2.2)\n",
            "Requirement already satisfied: joblib>=1.1.1 in /usr/local/lib/python3.10/dist-packages (from imbalanced-learn) (1.2.0)\n",
            "Requirement already satisfied: threadpoolctl>=2.0.0 in /usr/local/lib/python3.10/dist-packages (from imbalanced-learn) (3.1.0)\n"
          ]
        }
      ]
    },
    {
      "cell_type": "markdown",
      "source": [
        "# 4. Modeling"
      ],
      "metadata": {
        "id": "gmjFY24uxgvS"
      }
    },
    {
      "cell_type": "markdown",
      "source": [
        "### Vector & Target & Objects"
      ],
      "metadata": {
        "id": "TJcLtPb4KJE8"
      }
    },
    {
      "cell_type": "code",
      "source": [
        "x = df.drop(['LeaveOrNot'] , axis=1)\n",
        "y = df['LeaveOrNot']"
      ],
      "metadata": {
        "id": "9Q7p-U3PxexL"
      },
      "execution_count": 67,
      "outputs": []
    },
    {
      "cell_type": "code",
      "source": [
        "from sklearn.preprocessing import StandardScaler\n",
        "from sklearn.model_selection import train_test_split\n",
        "from imblearn.over_sampling import RandomOverSampler\n",
        "from imblearn.under_sampling import RandomUnderSampler\n",
        "from sklearn.metrics import accuracy_score, recall_score, precision_score, f1_score\n",
        "from sklearn.ensemble import RandomForestClassifier\n",
        "\n",
        "RFC = RandomForestClassifier(n_estimators=300)\n",
        "SC = StandardScaler()"
      ],
      "metadata": {
        "id": "olIYfCaZUh1N"
      },
      "execution_count": 68,
      "outputs": []
    },
    {
      "cell_type": "markdown",
      "source": [
        "### Random Forest With Balancing"
      ],
      "metadata": {
        "id": "iz_2S7mV31sj"
      }
    },
    {
      "cell_type": "code",
      "source": [
        "RFCU_Acc = []\n",
        "RFCU_Rec = []\n",
        "RFCU_Prc = []\n",
        "RFCU_F1  = []\n",
        "\n",
        "for i in range(50):\n",
        "  x_train, x_test, y_train, y_test = train_test_split(x, y, test_size=0.2, random_state=i)\n",
        "\n",
        "  oversample = RandomOverSampler(sampling_strategy='minority')\n",
        "  x_over, y_over = oversample.fit_resample(x_train, y_train)\n",
        "\n",
        "  x_over = SC.fit_transform(x_over)\n",
        "  x_test = SC.transform(x_test)\n",
        "\n",
        "  RFC.fit(x_over , y_over)\n",
        "  PredictU = RFC.predict(x_test)\n",
        "\n",
        "  Acc = accuracy_score(y_test , PredictU)\n",
        "  RFCU_Acc.append(Acc)\n",
        "\n",
        "  Rec = recall_score(y_test , PredictU)\n",
        "  RFCU_Rec.append(Rec)\n",
        "\n",
        "  Prc = precision_score(y_test , PredictU)\n",
        "  RFCU_Prc.append(Prc)\n",
        "\n",
        "  F1 = f1_score(y_test , PredictU)\n",
        "  RFCU_F1.append(F1)\n",
        "\n",
        "A1U = sum(RFCU_Acc)/len(RFCU_Acc)\n",
        "P1U = sum(RFCU_Prc)/len(RFCU_Prc)\n",
        "R1U = sum(RFCU_Rec)/len(RFCU_Rec)\n",
        "F1U = sum(RFCU_F1)/len(RFCU_F1)\n",
        "\n",
        "print(\"Accuracy:  \" , round(A1U , 3))\n",
        "print(\"Precision: \" , round(P1U , 3))\n",
        "print(\"Recall:    \" , round(R1U , 3))\n",
        "print(\"F1_score:  \" , round(F1U , 3))"
      ],
      "metadata": {
        "colab": {
          "base_uri": "https://localhost:8080/"
        },
        "id": "_-yFXon5gMrZ",
        "outputId": "c7fed40b-5a44-4ea7-ab35-04b59c2a86ee"
      },
      "execution_count": 69,
      "outputs": [
        {
          "output_type": "stream",
          "name": "stdout",
          "text": [
            "Accuracy:   0.718\n",
            "Precision:  0.662\n",
            "Recall:     0.641\n",
            "F1_score:   0.651\n"
          ]
        }
      ]
    },
    {
      "cell_type": "markdown",
      "source": [
        "### Random Forest Without Balancing"
      ],
      "metadata": {
        "id": "BZxmAVyRFzOd"
      }
    },
    {
      "cell_type": "code",
      "source": [
        "from sklearn.model_selection import train_test_split\n",
        "from sklearn.metrics import accuracy_score, recall_score, precision_score, f1_score\n",
        "\n",
        "RFC_Acc = []\n",
        "RFC_Rec = []\n",
        "RFC_Prc = []\n",
        "RFC_F1  = []\n",
        "\n",
        "for i in range(50):\n",
        "  x_train, x_test, y_train, y_test = train_test_split(x, y, test_size=0.2, random_state=i)\n",
        "\n",
        "  x_train = SC.fit_transform(x_train)\n",
        "  x_test = SC.transform(x_test)\n",
        "\n",
        "  RFC.fit(x_train , y_train)\n",
        "  Predict = RFC.predict(x_test)\n",
        "\n",
        "  Acc = accuracy_score(y_test , Predict)\n",
        "  RFC_Acc.append(Acc)\n",
        "\n",
        "  Rec = recall_score(y_test , Predict)\n",
        "  RFC_Rec.append(Rec)\n",
        "\n",
        "  Prc = precision_score(y_test , Predict)\n",
        "  RFC_Prc.append(Prc)\n",
        "\n",
        "  F1 = f1_score(y_test , Predict)\n",
        "  RFC_F1.append(F1)\n",
        "\n",
        "A1 = sum(RFC_Acc)/len(RFC_Acc)\n",
        "P1 = sum(RFC_Prc)/len(RFC_Prc)\n",
        "R1 = sum(RFC_Rec)/len(RFC_Rec)\n",
        "F1 = sum(RFC_F1)/len(RFC_F1)\n",
        "\n",
        "print(\"Accuracy:  \" , round(A1 , 3))\n",
        "print(\"Precision: \" , round(P1 , 3))\n",
        "print(\"Recall:    \" , round(R1 , 3))\n",
        "print(\"F1_score:  \" , round(F1 , 3))"
      ],
      "metadata": {
        "colab": {
          "base_uri": "https://localhost:8080/"
        },
        "id": "EncuiCubGD9S",
        "outputId": "e17a4dfa-820f-45f6-9311-3b5c85d229db"
      },
      "execution_count": 70,
      "outputs": [
        {
          "output_type": "stream",
          "name": "stdout",
          "text": [
            "Accuracy:   0.732\n",
            "Precision:  0.7\n",
            "Recall:     0.612\n",
            "F1_score:   0.652\n"
          ]
        }
      ]
    },
    {
      "cell_type": "markdown",
      "source": [
        "### ANN With Balancing"
      ],
      "metadata": {
        "id": "Y4VPxCuF39TV"
      }
    },
    {
      "cell_type": "code",
      "source": [
        "x = df.drop(['LeaveOrNot'] , axis=1)\n",
        "y = df['LeaveOrNot']\n",
        "xo_train, xo_test, yo_train, yo_test = train_test_split(x, y, test_size=0.2, random_state=0)"
      ],
      "metadata": {
        "id": "dDD8fWZA5-4u"
      },
      "execution_count": 71,
      "outputs": []
    },
    {
      "cell_type": "code",
      "source": [
        "undersampleANN = RandomUnderSampler(sampling_strategy='majority')\n",
        "x_over, y_over = undersampleANN.fit_resample(xo_train, yo_train)"
      ],
      "metadata": {
        "id": "8Y-iNQO-Arek"
      },
      "execution_count": 72,
      "outputs": []
    },
    {
      "cell_type": "code",
      "source": [
        "x_over = SC.fit_transform(x_over)\n",
        "xo_test = SC.transform(xo_test)"
      ],
      "metadata": {
        "id": "3pOtptpuF6FI"
      },
      "execution_count": 73,
      "outputs": []
    },
    {
      "cell_type": "code",
      "source": [
        "from keras.models import Sequential\n",
        "ClassB = Sequential()"
      ],
      "metadata": {
        "id": "KZM1PwH64LJk"
      },
      "execution_count": 74,
      "outputs": []
    },
    {
      "cell_type": "code",
      "source": [
        "from keras.layers import Dense\n",
        "ClassB.add(Dense(units = 50, activation = 'relu', input_shape = x_over[0].shape))\n",
        "ClassB.add(Dense(units = 70, activation = 'relu'))\n",
        "ClassB.add(Dense(units = 85, activation = 'relu'))\n",
        "ClassB.add(Dense(units = 1, activation = 'sigmoid'))"
      ],
      "metadata": {
        "id": "xTOQMwh0lZSs"
      },
      "execution_count": 75,
      "outputs": []
    },
    {
      "cell_type": "code",
      "source": [
        "ClassB.compile(optimizer = 'adam', loss = 'binary_crossentropy', metrics = ['accuracy'])\n",
        "ClassB.fit(x_over , y_over, batch_size = 10, epochs = 50)"
      ],
      "metadata": {
        "id": "dlg0zp494tR8",
        "colab": {
          "base_uri": "https://localhost:8080/"
        },
        "outputId": "3c00912d-c59a-41bb-af19-1400b707f037"
      },
      "execution_count": 76,
      "outputs": [
        {
          "output_type": "stream",
          "name": "stdout",
          "text": [
            "Epoch 1/50\n",
            "137/137 [==============================] - 2s 2ms/step - loss: 0.6568 - accuracy: 0.6120\n",
            "Epoch 2/50\n",
            "137/137 [==============================] - 0s 2ms/step - loss: 0.6116 - accuracy: 0.6545\n",
            "Epoch 3/50\n",
            "137/137 [==============================] - 0s 2ms/step - loss: 0.5694 - accuracy: 0.7042\n",
            "Epoch 4/50\n",
            "137/137 [==============================] - 0s 2ms/step - loss: 0.5375 - accuracy: 0.7160\n",
            "Epoch 5/50\n",
            "137/137 [==============================] - 0s 2ms/step - loss: 0.5204 - accuracy: 0.7299\n",
            "Epoch 6/50\n",
            "137/137 [==============================] - 0s 2ms/step - loss: 0.4937 - accuracy: 0.7518\n",
            "Epoch 7/50\n",
            "137/137 [==============================] - 0s 2ms/step - loss: 0.4792 - accuracy: 0.7592\n",
            "Epoch 8/50\n",
            "137/137 [==============================] - 0s 2ms/step - loss: 0.4648 - accuracy: 0.7701\n",
            "Epoch 9/50\n",
            "137/137 [==============================] - 0s 2ms/step - loss: 0.4527 - accuracy: 0.7840\n",
            "Epoch 10/50\n",
            "137/137 [==============================] - 0s 2ms/step - loss: 0.4515 - accuracy: 0.7657\n",
            "Epoch 11/50\n",
            "137/137 [==============================] - 0s 2ms/step - loss: 0.4343 - accuracy: 0.7804\n",
            "Epoch 12/50\n",
            "137/137 [==============================] - 0s 2ms/step - loss: 0.4283 - accuracy: 0.7862\n",
            "Epoch 13/50\n",
            "137/137 [==============================] - 0s 2ms/step - loss: 0.4200 - accuracy: 0.7965\n",
            "Epoch 14/50\n",
            "137/137 [==============================] - 0s 2ms/step - loss: 0.4112 - accuracy: 0.7994\n",
            "Epoch 15/50\n",
            "137/137 [==============================] - 0s 2ms/step - loss: 0.4083 - accuracy: 0.7914\n",
            "Epoch 16/50\n",
            "137/137 [==============================] - 0s 2ms/step - loss: 0.4012 - accuracy: 0.8097\n",
            "Epoch 17/50\n",
            "137/137 [==============================] - 0s 2ms/step - loss: 0.3991 - accuracy: 0.8067\n",
            "Epoch 18/50\n",
            "137/137 [==============================] - 0s 2ms/step - loss: 0.3988 - accuracy: 0.8045\n",
            "Epoch 19/50\n",
            "137/137 [==============================] - 0s 2ms/step - loss: 0.3837 - accuracy: 0.8163\n",
            "Epoch 20/50\n",
            "137/137 [==============================] - 0s 2ms/step - loss: 0.3834 - accuracy: 0.8163\n",
            "Epoch 21/50\n",
            "137/137 [==============================] - 0s 2ms/step - loss: 0.3778 - accuracy: 0.8001\n",
            "Epoch 22/50\n",
            "137/137 [==============================] - 0s 2ms/step - loss: 0.3710 - accuracy: 0.8214\n",
            "Epoch 23/50\n",
            "137/137 [==============================] - 0s 2ms/step - loss: 0.3690 - accuracy: 0.8148\n",
            "Epoch 24/50\n",
            "137/137 [==============================] - 0s 2ms/step - loss: 0.3612 - accuracy: 0.8272\n",
            "Epoch 25/50\n",
            "137/137 [==============================] - 0s 2ms/step - loss: 0.3590 - accuracy: 0.8353\n",
            "Epoch 26/50\n",
            "137/137 [==============================] - 0s 2ms/step - loss: 0.3577 - accuracy: 0.8148\n",
            "Epoch 27/50\n",
            "137/137 [==============================] - 0s 2ms/step - loss: 0.3494 - accuracy: 0.8382\n",
            "Epoch 28/50\n",
            "137/137 [==============================] - 0s 2ms/step - loss: 0.3480 - accuracy: 0.8228\n",
            "Epoch 29/50\n",
            "137/137 [==============================] - 0s 2ms/step - loss: 0.3473 - accuracy: 0.8250\n",
            "Epoch 30/50\n",
            "137/137 [==============================] - 0s 2ms/step - loss: 0.3377 - accuracy: 0.8367\n",
            "Epoch 31/50\n",
            "137/137 [==============================] - 0s 2ms/step - loss: 0.3428 - accuracy: 0.8375\n",
            "Epoch 32/50\n",
            "137/137 [==============================] - 0s 2ms/step - loss: 0.3262 - accuracy: 0.8499\n",
            "Epoch 33/50\n",
            "137/137 [==============================] - 0s 2ms/step - loss: 0.3384 - accuracy: 0.8353\n",
            "Epoch 34/50\n",
            "137/137 [==============================] - 0s 2ms/step - loss: 0.3265 - accuracy: 0.8477\n",
            "Epoch 35/50\n",
            "137/137 [==============================] - 0s 3ms/step - loss: 0.3287 - accuracy: 0.8360\n",
            "Epoch 36/50\n",
            "137/137 [==============================] - 0s 3ms/step - loss: 0.3250 - accuracy: 0.8463\n",
            "Epoch 37/50\n",
            "137/137 [==============================] - 0s 3ms/step - loss: 0.3173 - accuracy: 0.8485\n",
            "Epoch 38/50\n",
            "137/137 [==============================] - 0s 3ms/step - loss: 0.3163 - accuracy: 0.8397\n",
            "Epoch 39/50\n",
            "137/137 [==============================] - 0s 3ms/step - loss: 0.3157 - accuracy: 0.8419\n",
            "Epoch 40/50\n",
            "137/137 [==============================] - 0s 3ms/step - loss: 0.3080 - accuracy: 0.8492\n",
            "Epoch 41/50\n",
            "137/137 [==============================] - 0s 3ms/step - loss: 0.3084 - accuracy: 0.8514\n",
            "Epoch 42/50\n",
            "137/137 [==============================] - 0s 3ms/step - loss: 0.3092 - accuracy: 0.8470\n",
            "Epoch 43/50\n",
            "137/137 [==============================] - 0s 2ms/step - loss: 0.3068 - accuracy: 0.8529\n",
            "Epoch 44/50\n",
            "137/137 [==============================] - 0s 2ms/step - loss: 0.3058 - accuracy: 0.8389\n",
            "Epoch 45/50\n",
            "137/137 [==============================] - 0s 2ms/step - loss: 0.2985 - accuracy: 0.8521\n",
            "Epoch 46/50\n",
            "137/137 [==============================] - 0s 2ms/step - loss: 0.3007 - accuracy: 0.8514\n",
            "Epoch 47/50\n",
            "137/137 [==============================] - 0s 2ms/step - loss: 0.2890 - accuracy: 0.8529\n",
            "Epoch 48/50\n",
            "137/137 [==============================] - 0s 2ms/step - loss: 0.2886 - accuracy: 0.8485\n",
            "Epoch 49/50\n",
            "137/137 [==============================] - 0s 2ms/step - loss: 0.2886 - accuracy: 0.8514\n",
            "Epoch 50/50\n",
            "137/137 [==============================] - 0s 2ms/step - loss: 0.2879 - accuracy: 0.8507\n"
          ]
        },
        {
          "output_type": "execute_result",
          "data": {
            "text/plain": [
              "<keras.callbacks.History at 0x7fddff7f0eb0>"
            ]
          },
          "metadata": {},
          "execution_count": 76
        }
      ]
    },
    {
      "cell_type": "code",
      "source": [
        "y_predb = ClassB.predict(xo_test)"
      ],
      "metadata": {
        "id": "v4Lfg5N-6YTl",
        "colab": {
          "base_uri": "https://localhost:8080/"
        },
        "outputId": "fbc171bf-c022-4974-b534-11ab3ae3c7d6"
      },
      "execution_count": 77,
      "outputs": [
        {
          "output_type": "stream",
          "name": "stdout",
          "text": [
            "14/14 [==============================] - 0s 2ms/step\n"
          ]
        }
      ]
    },
    {
      "cell_type": "code",
      "source": [
        "y_predb = (y_predb > 0.5)"
      ],
      "metadata": {
        "id": "CxsknEDYz7rR"
      },
      "execution_count": 78,
      "outputs": []
    },
    {
      "cell_type": "code",
      "source": [
        "A2 = round(accuracy_score(yo_test, y_predb) , 3)\n",
        "P2 = round(precision_score(yo_test, y_predb) , 3)\n",
        "R2 = round(recall_score(yo_test, y_predb) , 3)\n",
        "F2 = round(f1_score(yo_test, y_predb) , 3)"
      ],
      "metadata": {
        "id": "FWU69TFqMemy"
      },
      "execution_count": 79,
      "outputs": []
    },
    {
      "cell_type": "code",
      "source": [
        "print(\"Accuracy:  \" , A2)\n",
        "print(\"Precision: \" , P2)\n",
        "print(\"Recall:    \" , R2)\n",
        "print(\"F1_score:  \" , F2)"
      ],
      "metadata": {
        "id": "gDM5Pll67s1q",
        "colab": {
          "base_uri": "https://localhost:8080/"
        },
        "outputId": "182fb7ce-2930-40af-9d40-a40bdf239b02"
      },
      "execution_count": 80,
      "outputs": [
        {
          "output_type": "stream",
          "name": "stdout",
          "text": [
            "Accuracy:   0.725\n",
            "Precision:  0.685\n",
            "Recall:     0.631\n",
            "F1_score:   0.657\n"
          ]
        }
      ]
    },
    {
      "cell_type": "markdown",
      "source": [
        "### ANN Without Balancing"
      ],
      "metadata": {
        "id": "s9ahQ3CoHk-e"
      }
    },
    {
      "cell_type": "code",
      "source": [
        "x_train, x_test, y_train, y_test = train_test_split(x, y, test_size=0.2, random_state=0)"
      ],
      "metadata": {
        "id": "DzbmaQoYHqix"
      },
      "execution_count": 81,
      "outputs": []
    },
    {
      "cell_type": "code",
      "source": [
        "x_train = SC.fit_transform(x_train)\n",
        "x_test = SC.transform(x_test)"
      ],
      "metadata": {
        "id": "hfgD7tx8IAL1"
      },
      "execution_count": 82,
      "outputs": []
    },
    {
      "cell_type": "code",
      "source": [
        "Class = Sequential()"
      ],
      "metadata": {
        "id": "sS3IvZGfIC5H"
      },
      "execution_count": 83,
      "outputs": []
    },
    {
      "cell_type": "code",
      "source": [
        "Class.add(Dense(units = 50, activation = 'relu', input_shape = x_over[0].shape))\n",
        "Class.add(Dense(units = 70, activation = 'relu'))\n",
        "Class.add(Dense(units = 85, activation = 'relu'))\n",
        "Class.add(Dense(units = 1, activation = 'sigmoid'))"
      ],
      "metadata": {
        "id": "8zcaBsDrINNq"
      },
      "execution_count": 84,
      "outputs": []
    },
    {
      "cell_type": "code",
      "source": [
        "Class.compile(optimizer = 'adam', loss = 'binary_crossentropy', metrics = ['accuracy'])\n",
        "Class.fit(x_train , y_train, batch_size = 10, epochs = 50)"
      ],
      "metadata": {
        "colab": {
          "base_uri": "https://localhost:8080/"
        },
        "id": "uP7bB6sqIYWD",
        "outputId": "c655d35f-ef53-487a-b4f3-34db7934fee7"
      },
      "execution_count": 85,
      "outputs": [
        {
          "output_type": "stream",
          "name": "stdout",
          "text": [
            "Epoch 1/50\n",
            "169/169 [==============================] - 1s 2ms/step - loss: 0.6376 - accuracy: 0.6406\n",
            "Epoch 2/50\n",
            "169/169 [==============================] - 0s 2ms/step - loss: 0.5778 - accuracy: 0.7040\n",
            "Epoch 3/50\n",
            "169/169 [==============================] - 0s 2ms/step - loss: 0.5381 - accuracy: 0.7313\n",
            "Epoch 4/50\n",
            "169/169 [==============================] - 0s 2ms/step - loss: 0.5119 - accuracy: 0.7432\n",
            "Epoch 5/50\n",
            "169/169 [==============================] - 0s 2ms/step - loss: 0.4925 - accuracy: 0.7669\n",
            "Epoch 6/50\n",
            "169/169 [==============================] - 0s 2ms/step - loss: 0.4734 - accuracy: 0.7829\n",
            "Epoch 7/50\n",
            "169/169 [==============================] - 0s 2ms/step - loss: 0.4674 - accuracy: 0.7776\n",
            "Epoch 8/50\n",
            "169/169 [==============================] - 0s 2ms/step - loss: 0.4503 - accuracy: 0.7859\n",
            "Epoch 9/50\n",
            "169/169 [==============================] - 0s 2ms/step - loss: 0.4438 - accuracy: 0.7942\n",
            "Epoch 10/50\n",
            "169/169 [==============================] - 0s 2ms/step - loss: 0.4331 - accuracy: 0.7936\n",
            "Epoch 11/50\n",
            "169/169 [==============================] - 0s 2ms/step - loss: 0.4237 - accuracy: 0.8001\n",
            "Epoch 12/50\n",
            "169/169 [==============================] - 0s 2ms/step - loss: 0.4165 - accuracy: 0.8126\n",
            "Epoch 13/50\n",
            "169/169 [==============================] - 0s 2ms/step - loss: 0.4074 - accuracy: 0.8102\n",
            "Epoch 14/50\n",
            "169/169 [==============================] - 0s 2ms/step - loss: 0.4064 - accuracy: 0.8149\n",
            "Epoch 15/50\n",
            "169/169 [==============================] - 0s 2ms/step - loss: 0.3981 - accuracy: 0.8138\n",
            "Epoch 16/50\n",
            "169/169 [==============================] - 0s 2ms/step - loss: 0.3924 - accuracy: 0.8072\n",
            "Epoch 17/50\n",
            "169/169 [==============================] - 0s 2ms/step - loss: 0.3865 - accuracy: 0.8096\n",
            "Epoch 18/50\n",
            "169/169 [==============================] - 0s 2ms/step - loss: 0.3855 - accuracy: 0.8167\n",
            "Epoch 19/50\n",
            "169/169 [==============================] - 0s 2ms/step - loss: 0.3805 - accuracy: 0.8179\n",
            "Epoch 20/50\n",
            "169/169 [==============================] - 0s 2ms/step - loss: 0.3744 - accuracy: 0.8209\n",
            "Epoch 21/50\n",
            "169/169 [==============================] - 1s 3ms/step - loss: 0.3682 - accuracy: 0.8292\n",
            "Epoch 22/50\n",
            "169/169 [==============================] - 0s 3ms/step - loss: 0.3732 - accuracy: 0.8155\n",
            "Epoch 23/50\n",
            "169/169 [==============================] - 1s 3ms/step - loss: 0.3653 - accuracy: 0.8304\n",
            "Epoch 24/50\n",
            "169/169 [==============================] - 0s 3ms/step - loss: 0.3603 - accuracy: 0.8298\n",
            "Epoch 25/50\n",
            "169/169 [==============================] - 0s 3ms/step - loss: 0.3540 - accuracy: 0.8357\n",
            "Epoch 26/50\n",
            "169/169 [==============================] - 0s 2ms/step - loss: 0.3447 - accuracy: 0.8428\n",
            "Epoch 27/50\n",
            "169/169 [==============================] - 0s 2ms/step - loss: 0.3501 - accuracy: 0.8363\n",
            "Epoch 28/50\n",
            "169/169 [==============================] - 0s 2ms/step - loss: 0.3380 - accuracy: 0.8410\n",
            "Epoch 29/50\n",
            "169/169 [==============================] - 0s 2ms/step - loss: 0.3407 - accuracy: 0.8405\n",
            "Epoch 30/50\n",
            "169/169 [==============================] - 0s 2ms/step - loss: 0.3414 - accuracy: 0.8440\n",
            "Epoch 31/50\n",
            "169/169 [==============================] - 0s 2ms/step - loss: 0.3324 - accuracy: 0.8428\n",
            "Epoch 32/50\n",
            "169/169 [==============================] - 0s 2ms/step - loss: 0.3288 - accuracy: 0.8399\n",
            "Epoch 33/50\n",
            "169/169 [==============================] - 0s 2ms/step - loss: 0.3301 - accuracy: 0.8416\n",
            "Epoch 34/50\n",
            "169/169 [==============================] - 0s 2ms/step - loss: 0.3280 - accuracy: 0.8422\n",
            "Epoch 35/50\n",
            "169/169 [==============================] - 0s 2ms/step - loss: 0.3215 - accuracy: 0.8452\n",
            "Epoch 36/50\n",
            "169/169 [==============================] - 0s 2ms/step - loss: 0.3250 - accuracy: 0.8405\n",
            "Epoch 37/50\n",
            "169/169 [==============================] - 0s 2ms/step - loss: 0.3207 - accuracy: 0.8535\n",
            "Epoch 38/50\n",
            "169/169 [==============================] - 0s 2ms/step - loss: 0.3109 - accuracy: 0.8499\n",
            "Epoch 39/50\n",
            "169/169 [==============================] - 0s 2ms/step - loss: 0.3149 - accuracy: 0.8582\n",
            "Epoch 40/50\n",
            "169/169 [==============================] - 1s 3ms/step - loss: 0.3211 - accuracy: 0.8440\n",
            "Epoch 41/50\n",
            "169/169 [==============================] - 1s 4ms/step - loss: 0.3142 - accuracy: 0.8488\n",
            "Epoch 42/50\n",
            "169/169 [==============================] - 1s 3ms/step - loss: 0.3044 - accuracy: 0.8517\n",
            "Epoch 43/50\n",
            "169/169 [==============================] - 1s 4ms/step - loss: 0.3072 - accuracy: 0.8541\n",
            "Epoch 44/50\n",
            "169/169 [==============================] - 1s 4ms/step - loss: 0.3060 - accuracy: 0.8553\n",
            "Epoch 45/50\n",
            "169/169 [==============================] - 1s 4ms/step - loss: 0.2999 - accuracy: 0.8600\n",
            "Epoch 46/50\n",
            "169/169 [==============================] - 1s 4ms/step - loss: 0.2964 - accuracy: 0.8677\n",
            "Epoch 47/50\n",
            "169/169 [==============================] - 1s 5ms/step - loss: 0.2972 - accuracy: 0.8642\n",
            "Epoch 48/50\n",
            "169/169 [==============================] - 1s 6ms/step - loss: 0.2915 - accuracy: 0.8606\n",
            "Epoch 49/50\n",
            "169/169 [==============================] - 1s 7ms/step - loss: 0.2898 - accuracy: 0.8565\n",
            "Epoch 50/50\n",
            "169/169 [==============================] - 1s 6ms/step - loss: 0.2958 - accuracy: 0.8577\n"
          ]
        },
        {
          "output_type": "execute_result",
          "data": {
            "text/plain": [
              "<keras.callbacks.History at 0x7fde65b645b0>"
            ]
          },
          "metadata": {},
          "execution_count": 85
        }
      ]
    },
    {
      "cell_type": "code",
      "source": [
        "y_pred = Class.predict(x_test)"
      ],
      "metadata": {
        "id": "Fh_6khx0IcyA",
        "colab": {
          "base_uri": "https://localhost:8080/"
        },
        "outputId": "258b462b-fb54-4cea-cfe0-30f8dfa0d86c"
      },
      "execution_count": 86,
      "outputs": [
        {
          "output_type": "stream",
          "name": "stdout",
          "text": [
            "14/14 [==============================] - 0s 1ms/step\n"
          ]
        }
      ]
    },
    {
      "cell_type": "code",
      "source": [
        "y_pred = (y_pred > 0.5)"
      ],
      "metadata": {
        "id": "u3XJZ-v6Ilcq"
      },
      "execution_count": 87,
      "outputs": []
    },
    {
      "cell_type": "code",
      "source": [
        "print(\"Accuracy:  \" , round(accuracy_score(y_test, y_pred) , 3))\n",
        "print(\"Precision: \" , round(precision_score(y_test, y_pred) , 3))\n",
        "print(\"Recall:    \" , round(recall_score(y_test, y_pred) , 3))\n",
        "print(\"F1_score:  \" , round(f1_score(y_test, y_pred) , 3))"
      ],
      "metadata": {
        "id": "jHFQe4yfIrbr",
        "colab": {
          "base_uri": "https://localhost:8080/"
        },
        "outputId": "dbf44491-32be-4801-ee1a-d86d0707a65b"
      },
      "execution_count": 88,
      "outputs": [
        {
          "output_type": "stream",
          "name": "stdout",
          "text": [
            "Accuracy:   0.739\n",
            "Precision:  0.723\n",
            "Recall:     0.608\n",
            "F1_score:   0.66\n"
          ]
        }
      ]
    },
    {
      "cell_type": "markdown",
      "source": [
        "# 5. Visualization"
      ],
      "metadata": {
        "id": "cmdkiJUCLrrF"
      }
    },
    {
      "cell_type": "code",
      "source": [
        "xv = ['Accuracy','Precision','Recall' , 'F1']"
      ],
      "metadata": {
        "id": "Eczr1riQLxNb"
      },
      "execution_count": 89,
      "outputs": []
    },
    {
      "cell_type": "code",
      "source": [
        "M = [A1U , P1U , R1U , F1U]\n",
        "M2 = [A2 , P2 , R2 , F2]\n",
        "\n",
        "X_axis = np.arange(len(xv))\n",
        "\n",
        "plt.bar(X_axis + 0.15 , M  , color = 'Green' ,    width = 0.20 , edgecolor = 'black' , label = 'Random Forest')\n",
        "plt.bar(X_axis + 0.35 , M2 , color = 'Blue'  ,    width = 0.20 , edgecolor = 'black' , label = 'ANN')\n",
        "\n",
        "plt.xticks(X_axis + 0.20, xv)\n",
        "plt.legend(bbox_to_anchor=(1 , 1))\n",
        "\n",
        "plt.ylabel(\"Result\")\n",
        "plt.title(\"Measures\")\n",
        "plt.show()"
      ],
      "metadata": {
        "colab": {
          "base_uri": "https://localhost:8080/",
          "height": 452
        },
        "id": "bZhlc7D7L9M7",
        "outputId": "37f3b025-a5f4-4fa4-cf34-8ae9bf950f2d"
      },
      "execution_count": 90,
      "outputs": [
        {
          "output_type": "display_data",
          "data": {
            "text/plain": [
              "<Figure size 640x480 with 1 Axes>"
            ],
            "image/png": "[encoded data removed]"
          },
          "metadata": {}
        }
      ]
    }
  ]
}